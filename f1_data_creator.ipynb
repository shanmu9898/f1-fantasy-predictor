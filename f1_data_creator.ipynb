{
 "cells": [
  {
   "cell_type": "code",
   "execution_count": 1,
   "metadata": {
    "collapsed": true
   },
   "outputs": [],
   "source": [
    "import pandas as pd\n",
    "import numpy as np\n",
    "\n"
   ]
  },
  {
   "cell_type": "code",
   "execution_count": 2,
   "outputs": [],
   "source": [
    "df_template = pd.DataFrame(columns=[\"driver_id, driver_ref, q1_position, q2_position, q3_position, circuit, constructor_standing, driver_standing, year, constructor, quali_position\"])"
   ],
   "metadata": {
    "collapsed": false,
    "pycharm": {
     "name": "#%%\n"
    }
   }
  },
  {
   "cell_type": "code",
   "execution_count": 3,
   "outputs": [],
   "source": [
    "drivers = pd.read_csv(\"archive/drivers.csv\")\n",
    "qualifying = pd.read_csv(\"archive/qualifying.csv\")\n",
    "constructor_results = pd.read_csv(\"archive/constructor_results.csv\")\n",
    "race_results = pd.read_csv(\"archive/results.csv\")\n",
    "constructors = pd.read_csv(\"archive/constructors.csv\")"
   ],
   "metadata": {
    "collapsed": false,
    "pycharm": {
     "name": "#%%\n"
    }
   }
  },
  {
   "cell_type": "code",
   "execution_count": 4,
   "outputs": [
    {
     "data": {
      "text/plain": "    driverId code\n0          1  HAM\n1          4  ALO\n2          8  RAI\n3         20  VET\n4        842  GAS\n5        815  PER\n6        817  RIC\n7        822  BOT\n8        830  VER\n9        832  SAI\n10       839  OCO\n11       840  STR\n12       841  GIO\n13       844  LEC\n14       846  NOR\n15       847  RUS\n16       849  LAT\n17       852  TSU\n18       853  MAZ\n19       854  MSC",
      "text/html": "<div>\n<style scoped>\n    .dataframe tbody tr th:only-of-type {\n        vertical-align: middle;\n    }\n\n    .dataframe tbody tr th {\n        vertical-align: top;\n    }\n\n    .dataframe thead th {\n        text-align: right;\n    }\n</style>\n<table border=\"1\" class=\"dataframe\">\n  <thead>\n    <tr style=\"text-align: right;\">\n      <th></th>\n      <th>driverId</th>\n      <th>code</th>\n    </tr>\n  </thead>\n  <tbody>\n    <tr>\n      <th>0</th>\n      <td>1</td>\n      <td>HAM</td>\n    </tr>\n    <tr>\n      <th>1</th>\n      <td>4</td>\n      <td>ALO</td>\n    </tr>\n    <tr>\n      <th>2</th>\n      <td>8</td>\n      <td>RAI</td>\n    </tr>\n    <tr>\n      <th>3</th>\n      <td>20</td>\n      <td>VET</td>\n    </tr>\n    <tr>\n      <th>4</th>\n      <td>842</td>\n      <td>GAS</td>\n    </tr>\n    <tr>\n      <th>5</th>\n      <td>815</td>\n      <td>PER</td>\n    </tr>\n    <tr>\n      <th>6</th>\n      <td>817</td>\n      <td>RIC</td>\n    </tr>\n    <tr>\n      <th>7</th>\n      <td>822</td>\n      <td>BOT</td>\n    </tr>\n    <tr>\n      <th>8</th>\n      <td>830</td>\n      <td>VER</td>\n    </tr>\n    <tr>\n      <th>9</th>\n      <td>832</td>\n      <td>SAI</td>\n    </tr>\n    <tr>\n      <th>10</th>\n      <td>839</td>\n      <td>OCO</td>\n    </tr>\n    <tr>\n      <th>11</th>\n      <td>840</td>\n      <td>STR</td>\n    </tr>\n    <tr>\n      <th>12</th>\n      <td>841</td>\n      <td>GIO</td>\n    </tr>\n    <tr>\n      <th>13</th>\n      <td>844</td>\n      <td>LEC</td>\n    </tr>\n    <tr>\n      <th>14</th>\n      <td>846</td>\n      <td>NOR</td>\n    </tr>\n    <tr>\n      <th>15</th>\n      <td>847</td>\n      <td>RUS</td>\n    </tr>\n    <tr>\n      <th>16</th>\n      <td>849</td>\n      <td>LAT</td>\n    </tr>\n    <tr>\n      <th>17</th>\n      <td>852</td>\n      <td>TSU</td>\n    </tr>\n    <tr>\n      <th>18</th>\n      <td>853</td>\n      <td>MAZ</td>\n    </tr>\n    <tr>\n      <th>19</th>\n      <td>854</td>\n      <td>MSC</td>\n    </tr>\n  </tbody>\n</table>\n</div>"
     },
     "execution_count": 4,
     "metadata": {},
     "output_type": "execute_result"
    }
   ],
   "source": [
    "driver_ids_list = [1, 4, 853, 854, 822, 830, 815, 847, 849, 846, 817, 839, 840, 20, 852, 842, 841, 8, 832, 844]\n",
    "drivers_clean = drivers[drivers.driverId.isin(driver_ids_list)].drop([\"number\", \"forename\", \"surname\", \"dob\", \"nationality\", \"url\", \"driverRef\"], axis=1).reset_index(drop=True)\n",
    "\n",
    "drivers_clean"
   ],
   "metadata": {
    "collapsed": false,
    "pycharm": {
     "name": "#%%\n"
    }
   }
  },
  {
   "cell_type": "code",
   "execution_count": 5,
   "outputs": [
    {
     "data": {
      "text/plain": "      qualifyId  raceId  driverId  constructorId  number  position        q1  \\\n0             1      18         1              1      22         1  1:26.572   \n1             2      18         9              2       4         2  1:26.103   \n2             3      18         5              1      23         3  1:25.664   \n3             4      18        13              6       2         4  1:25.994   \n4             5      18         2              2       3         5  1:25.960   \n...         ...     ...       ...            ...     ...       ...       ...   \n8769       8810    1055       852            213      22        16  1:18.556   \n8770       8811    1055         8             51       7        17  1:18.917   \n8771       8812    1055       854            210      47        18  1:19.117   \n8772       8813    1055       849              3       6        19  1:19.219   \n8773       8814    1055       853            210       9        20  1:19.807   \n\n            q2        q3  \n0     1:25.187  1:26.714  \n1     1:25.315  1:26.869  \n2     1:25.452  1:27.079  \n3     1:25.691  1:27.178  \n4     1:25.518  1:27.236  \n...        ...       ...  \n8769       NaN       NaN  \n8770       NaN       NaN  \n8771       NaN       NaN  \n8772       NaN       NaN  \n8773       NaN       NaN  \n\n[8774 rows x 9 columns]",
      "text/html": "<div>\n<style scoped>\n    .dataframe tbody tr th:only-of-type {\n        vertical-align: middle;\n    }\n\n    .dataframe tbody tr th {\n        vertical-align: top;\n    }\n\n    .dataframe thead th {\n        text-align: right;\n    }\n</style>\n<table border=\"1\" class=\"dataframe\">\n  <thead>\n    <tr style=\"text-align: right;\">\n      <th></th>\n      <th>qualifyId</th>\n      <th>raceId</th>\n      <th>driverId</th>\n      <th>constructorId</th>\n      <th>number</th>\n      <th>position</th>\n      <th>q1</th>\n      <th>q2</th>\n      <th>q3</th>\n    </tr>\n  </thead>\n  <tbody>\n    <tr>\n      <th>0</th>\n      <td>1</td>\n      <td>18</td>\n      <td>1</td>\n      <td>1</td>\n      <td>22</td>\n      <td>1</td>\n      <td>1:26.572</td>\n      <td>1:25.187</td>\n      <td>1:26.714</td>\n    </tr>\n    <tr>\n      <th>1</th>\n      <td>2</td>\n      <td>18</td>\n      <td>9</td>\n      <td>2</td>\n      <td>4</td>\n      <td>2</td>\n      <td>1:26.103</td>\n      <td>1:25.315</td>\n      <td>1:26.869</td>\n    </tr>\n    <tr>\n      <th>2</th>\n      <td>3</td>\n      <td>18</td>\n      <td>5</td>\n      <td>1</td>\n      <td>23</td>\n      <td>3</td>\n      <td>1:25.664</td>\n      <td>1:25.452</td>\n      <td>1:27.079</td>\n    </tr>\n    <tr>\n      <th>3</th>\n      <td>4</td>\n      <td>18</td>\n      <td>13</td>\n      <td>6</td>\n      <td>2</td>\n      <td>4</td>\n      <td>1:25.994</td>\n      <td>1:25.691</td>\n      <td>1:27.178</td>\n    </tr>\n    <tr>\n      <th>4</th>\n      <td>5</td>\n      <td>18</td>\n      <td>2</td>\n      <td>2</td>\n      <td>3</td>\n      <td>5</td>\n      <td>1:25.960</td>\n      <td>1:25.518</td>\n      <td>1:27.236</td>\n    </tr>\n    <tr>\n      <th>...</th>\n      <td>...</td>\n      <td>...</td>\n      <td>...</td>\n      <td>...</td>\n      <td>...</td>\n      <td>...</td>\n      <td>...</td>\n      <td>...</td>\n      <td>...</td>\n    </tr>\n    <tr>\n      <th>8769</th>\n      <td>8810</td>\n      <td>1055</td>\n      <td>852</td>\n      <td>213</td>\n      <td>22</td>\n      <td>16</td>\n      <td>1:18.556</td>\n      <td>NaN</td>\n      <td>NaN</td>\n    </tr>\n    <tr>\n      <th>8770</th>\n      <td>8811</td>\n      <td>1055</td>\n      <td>8</td>\n      <td>51</td>\n      <td>7</td>\n      <td>17</td>\n      <td>1:18.917</td>\n      <td>NaN</td>\n      <td>NaN</td>\n    </tr>\n    <tr>\n      <th>8771</th>\n      <td>8812</td>\n      <td>1055</td>\n      <td>854</td>\n      <td>210</td>\n      <td>47</td>\n      <td>18</td>\n      <td>1:19.117</td>\n      <td>NaN</td>\n      <td>NaN</td>\n    </tr>\n    <tr>\n      <th>8772</th>\n      <td>8813</td>\n      <td>1055</td>\n      <td>849</td>\n      <td>3</td>\n      <td>6</td>\n      <td>19</td>\n      <td>1:19.219</td>\n      <td>NaN</td>\n      <td>NaN</td>\n    </tr>\n    <tr>\n      <th>8773</th>\n      <td>8814</td>\n      <td>1055</td>\n      <td>853</td>\n      <td>210</td>\n      <td>9</td>\n      <td>20</td>\n      <td>1:19.807</td>\n      <td>NaN</td>\n      <td>NaN</td>\n    </tr>\n  </tbody>\n</table>\n<p>8774 rows × 9 columns</p>\n</div>"
     },
     "execution_count": 5,
     "metadata": {},
     "output_type": "execute_result"
    }
   ],
   "source": [
    "qualifying"
   ],
   "metadata": {
    "collapsed": false,
    "pycharm": {
     "name": "#%%\n"
    }
   }
  },
  {
   "cell_type": "code",
   "execution_count": 6,
   "outputs": [],
   "source": [
    "qualifying = qualifying.drop([\"number\", \"qualifyId\", \"position\"], axis=1)"
   ],
   "metadata": {
    "collapsed": false,
    "pycharm": {
     "name": "#%%\n"
    }
   }
  },
  {
   "cell_type": "code",
   "execution_count": 7,
   "outputs": [],
   "source": [
    "test1 = qualifying[[\"raceId\", \"driverId\", \"constructorId\"]].copy()\n"
   ],
   "metadata": {
    "collapsed": false,
    "pycharm": {
     "name": "#%%\n"
    }
   }
  },
  {
   "cell_type": "code",
   "execution_count": 8,
   "outputs": [],
   "source": [
    "test2 = qualifying.drop([\"q2\", \"q3\"], axis=1)\n",
    "test2 = test2.dropna()\n",
    "test2[\"q1_position\"] = test2.sort_values([\"q1\"]).groupby(\"raceId\").cumcount() + 1"
   ],
   "metadata": {
    "collapsed": false,
    "pycharm": {
     "name": "#%%\n"
    }
   }
  },
  {
   "cell_type": "code",
   "execution_count": 9,
   "outputs": [],
   "source": [
    "test3 = qualifying.drop([\"q1\", \"q3\"], axis=1)\n",
    "test3 = test3.dropna()\n",
    "test3[\"q2_position\"] = test3.sort_values([\"q2\"]).groupby(\"raceId\").cumcount() + 1"
   ],
   "metadata": {
    "collapsed": false,
    "pycharm": {
     "name": "#%%\n"
    }
   }
  },
  {
   "cell_type": "code",
   "execution_count": 10,
   "outputs": [],
   "source": [
    "test4 = qualifying.drop([\"q1\", \"q2\"], axis=1)\n",
    "test4 = test4.dropna()\n",
    "test4[\"q3_position\"] = test4.sort_values([\"q3\"]).groupby(\"raceId\").cumcount() + 1"
   ],
   "metadata": {
    "collapsed": false,
    "pycharm": {
     "name": "#%%\n"
    }
   }
  },
  {
   "cell_type": "code",
   "execution_count": 11,
   "outputs": [],
   "source": [
    "test1 = test1.merge(\n",
    "    test2,\n",
    "    on=[\"raceId\", \"driverId\", \"constructorId\"],\n",
    "    how=\"left\"\n",
    ")"
   ],
   "metadata": {
    "collapsed": false,
    "pycharm": {
     "name": "#%%\n"
    }
   }
  },
  {
   "cell_type": "code",
   "execution_count": 12,
   "outputs": [],
   "source": [
    "test1 = test1.merge(\n",
    "    test3,\n",
    "    on=[\"raceId\", \"driverId\", \"constructorId\"],\n",
    "    how=\"left\"\n",
    ")\n",
    "\n",
    "test1 = test1.merge(\n",
    "    test4,\n",
    "    on=[\"raceId\", \"driverId\", \"constructorId\"],\n",
    "    how=\"left\"\n",
    ")"
   ],
   "metadata": {
    "collapsed": false,
    "pycharm": {
     "name": "#%%\n"
    }
   }
  },
  {
   "cell_type": "code",
   "execution_count": 13,
   "outputs": [],
   "source": [
    "cleaned_positions = test1.drop([\"q1\", \"q2\", \"q3\"], axis=1)"
   ],
   "metadata": {
    "collapsed": false,
    "pycharm": {
     "name": "#%%\n"
    }
   }
  },
  {
   "cell_type": "code",
   "execution_count": 14,
   "outputs": [],
   "source": [
    "test_x = cleaned_positions.groupby([\"raceId\"]).transform(lambda x: x.fillna(x.max() + 1))\n",
    "test_x[\"raceId\"] = cleaned_positions[\"raceId\"]"
   ],
   "metadata": {
    "collapsed": false,
    "pycharm": {
     "name": "#%%\n"
    }
   }
  },
  {
   "cell_type": "code",
   "execution_count": 15,
   "outputs": [],
   "source": [
    "qualifying = test_x\n",
    "\n",
    "\n"
   ],
   "metadata": {
    "collapsed": false,
    "pycharm": {
     "name": "#%%\n"
    }
   }
  },
  {
   "cell_type": "code",
   "execution_count": 16,
   "outputs": [
    {
     "data": {
      "text/plain": "      driverId  constructorId  q1_position  q2_position  q3_position  raceId\n0            1              1         10.0          1.0          1.0      18\n1            9              2          4.0          2.0          2.0      18\n2            5              1          1.0          3.0          3.0      18\n3           13              6          3.0          5.0          4.0      18\n4            2              2          2.0          4.0          5.0      18\n...        ...            ...          ...          ...          ...     ...\n8769       852            213         16.0         16.0         11.0    1055\n8770         8             51         17.0         16.0         11.0    1055\n8771       854            210         18.0         16.0         11.0    1055\n8772       849              3         19.0         16.0         11.0    1055\n8773       853            210         20.0         16.0         11.0    1055\n\n[8774 rows x 6 columns]",
      "text/html": "<div>\n<style scoped>\n    .dataframe tbody tr th:only-of-type {\n        vertical-align: middle;\n    }\n\n    .dataframe tbody tr th {\n        vertical-align: top;\n    }\n\n    .dataframe thead th {\n        text-align: right;\n    }\n</style>\n<table border=\"1\" class=\"dataframe\">\n  <thead>\n    <tr style=\"text-align: right;\">\n      <th></th>\n      <th>driverId</th>\n      <th>constructorId</th>\n      <th>q1_position</th>\n      <th>q2_position</th>\n      <th>q3_position</th>\n      <th>raceId</th>\n    </tr>\n  </thead>\n  <tbody>\n    <tr>\n      <th>0</th>\n      <td>1</td>\n      <td>1</td>\n      <td>10.0</td>\n      <td>1.0</td>\n      <td>1.0</td>\n      <td>18</td>\n    </tr>\n    <tr>\n      <th>1</th>\n      <td>9</td>\n      <td>2</td>\n      <td>4.0</td>\n      <td>2.0</td>\n      <td>2.0</td>\n      <td>18</td>\n    </tr>\n    <tr>\n      <th>2</th>\n      <td>5</td>\n      <td>1</td>\n      <td>1.0</td>\n      <td>3.0</td>\n      <td>3.0</td>\n      <td>18</td>\n    </tr>\n    <tr>\n      <th>3</th>\n      <td>13</td>\n      <td>6</td>\n      <td>3.0</td>\n      <td>5.0</td>\n      <td>4.0</td>\n      <td>18</td>\n    </tr>\n    <tr>\n      <th>4</th>\n      <td>2</td>\n      <td>2</td>\n      <td>2.0</td>\n      <td>4.0</td>\n      <td>5.0</td>\n      <td>18</td>\n    </tr>\n    <tr>\n      <th>...</th>\n      <td>...</td>\n      <td>...</td>\n      <td>...</td>\n      <td>...</td>\n      <td>...</td>\n      <td>...</td>\n    </tr>\n    <tr>\n      <th>8769</th>\n      <td>852</td>\n      <td>213</td>\n      <td>16.0</td>\n      <td>16.0</td>\n      <td>11.0</td>\n      <td>1055</td>\n    </tr>\n    <tr>\n      <th>8770</th>\n      <td>8</td>\n      <td>51</td>\n      <td>17.0</td>\n      <td>16.0</td>\n      <td>11.0</td>\n      <td>1055</td>\n    </tr>\n    <tr>\n      <th>8771</th>\n      <td>854</td>\n      <td>210</td>\n      <td>18.0</td>\n      <td>16.0</td>\n      <td>11.0</td>\n      <td>1055</td>\n    </tr>\n    <tr>\n      <th>8772</th>\n      <td>849</td>\n      <td>3</td>\n      <td>19.0</td>\n      <td>16.0</td>\n      <td>11.0</td>\n      <td>1055</td>\n    </tr>\n    <tr>\n      <th>8773</th>\n      <td>853</td>\n      <td>210</td>\n      <td>20.0</td>\n      <td>16.0</td>\n      <td>11.0</td>\n      <td>1055</td>\n    </tr>\n  </tbody>\n</table>\n<p>8774 rows × 6 columns</p>\n</div>"
     },
     "execution_count": 16,
     "metadata": {},
     "output_type": "execute_result"
    }
   ],
   "source": [
    "qualifying"
   ],
   "metadata": {
    "collapsed": false,
    "pycharm": {
     "name": "#%%\n"
    }
   }
  },
  {
   "cell_type": "code",
   "execution_count": null,
   "outputs": [],
   "source": [],
   "metadata": {
    "collapsed": false,
    "pycharm": {
     "name": "#%%\n"
    }
   }
  }
 ],
 "metadata": {
  "kernelspec": {
   "display_name": "Python 3",
   "language": "python",
   "name": "python3"
  },
  "language_info": {
   "codemirror_mode": {
    "name": "ipython",
    "version": 2
   },
   "file_extension": ".py",
   "mimetype": "text/x-python",
   "name": "python",
   "nbconvert_exporter": "python",
   "pygments_lexer": "ipython2",
   "version": "2.7.6"
  }
 },
 "nbformat": 4,
 "nbformat_minor": 0
}