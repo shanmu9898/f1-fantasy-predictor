{
 "cells": [
  {
   "cell_type": "code",
   "execution_count": 47,
   "metadata": {
    "collapsed": true
   },
   "outputs": [],
   "source": [
    "import pandas as pd\n",
    "import numpy as np\n",
    "\n"
   ]
  },
  {
   "cell_type": "code",
   "execution_count": 48,
   "outputs": [],
   "source": [
    "df_template = pd.DataFrame(columns=[\"driver_id, driver_ref, q1_position, q2_position, q3_position, circuit, constructor_standing, driver_standing, year, constructor, quali_position\"])"
   ],
   "metadata": {
    "collapsed": false,
    "pycharm": {
     "name": "#%%\n"
    }
   }
  },
  {
   "cell_type": "code",
   "execution_count": 99,
   "outputs": [],
   "source": [
    "drivers = pd.read_csv(\"archive/drivers.csv\")\n",
    "qualifying = pd.read_csv(\"archive/qualifying.csv\")\n",
    "constructor_results = pd.read_csv(\"archive/constructor_results.csv\")\n",
    "race_results = pd.read_csv(\"archive/results.csv\")\n",
    "constructors = pd.read_csv(\"archive/constructors.csv\")\n",
    "races = pd.read_csv(\"archive/races.csv\")"
   ],
   "metadata": {
    "collapsed": false,
    "pycharm": {
     "name": "#%%\n"
    }
   }
  },
  {
   "cell_type": "code",
   "execution_count": 50,
   "outputs": [
    {
     "data": {
      "text/plain": "    driverId code\n0          1  HAM\n1          4  ALO\n2          8  RAI\n3         20  VET\n4        842  GAS\n5        815  PER\n6        817  RIC\n7        822  BOT\n8        830  VER\n9        832  SAI\n10       839  OCO\n11       840  STR\n12       841  GIO\n13       844  LEC\n14       846  NOR\n15       847  RUS\n16       849  LAT\n17       852  TSU\n18       853  MAZ\n19       854  MSC",
      "text/html": "<div>\n<style scoped>\n    .dataframe tbody tr th:only-of-type {\n        vertical-align: middle;\n    }\n\n    .dataframe tbody tr th {\n        vertical-align: top;\n    }\n\n    .dataframe thead th {\n        text-align: right;\n    }\n</style>\n<table border=\"1\" class=\"dataframe\">\n  <thead>\n    <tr style=\"text-align: right;\">\n      <th></th>\n      <th>driverId</th>\n      <th>code</th>\n    </tr>\n  </thead>\n  <tbody>\n    <tr>\n      <th>0</th>\n      <td>1</td>\n      <td>HAM</td>\n    </tr>\n    <tr>\n      <th>1</th>\n      <td>4</td>\n      <td>ALO</td>\n    </tr>\n    <tr>\n      <th>2</th>\n      <td>8</td>\n      <td>RAI</td>\n    </tr>\n    <tr>\n      <th>3</th>\n      <td>20</td>\n      <td>VET</td>\n    </tr>\n    <tr>\n      <th>4</th>\n      <td>842</td>\n      <td>GAS</td>\n    </tr>\n    <tr>\n      <th>5</th>\n      <td>815</td>\n      <td>PER</td>\n    </tr>\n    <tr>\n      <th>6</th>\n      <td>817</td>\n      <td>RIC</td>\n    </tr>\n    <tr>\n      <th>7</th>\n      <td>822</td>\n      <td>BOT</td>\n    </tr>\n    <tr>\n      <th>8</th>\n      <td>830</td>\n      <td>VER</td>\n    </tr>\n    <tr>\n      <th>9</th>\n      <td>832</td>\n      <td>SAI</td>\n    </tr>\n    <tr>\n      <th>10</th>\n      <td>839</td>\n      <td>OCO</td>\n    </tr>\n    <tr>\n      <th>11</th>\n      <td>840</td>\n      <td>STR</td>\n    </tr>\n    <tr>\n      <th>12</th>\n      <td>841</td>\n      <td>GIO</td>\n    </tr>\n    <tr>\n      <th>13</th>\n      <td>844</td>\n      <td>LEC</td>\n    </tr>\n    <tr>\n      <th>14</th>\n      <td>846</td>\n      <td>NOR</td>\n    </tr>\n    <tr>\n      <th>15</th>\n      <td>847</td>\n      <td>RUS</td>\n    </tr>\n    <tr>\n      <th>16</th>\n      <td>849</td>\n      <td>LAT</td>\n    </tr>\n    <tr>\n      <th>17</th>\n      <td>852</td>\n      <td>TSU</td>\n    </tr>\n    <tr>\n      <th>18</th>\n      <td>853</td>\n      <td>MAZ</td>\n    </tr>\n    <tr>\n      <th>19</th>\n      <td>854</td>\n      <td>MSC</td>\n    </tr>\n  </tbody>\n</table>\n</div>"
     },
     "execution_count": 50,
     "metadata": {},
     "output_type": "execute_result"
    }
   ],
   "source": [
    "driver_ids_list = [1, 4, 853, 854, 822, 830, 815, 847, 849, 846, 817, 839, 840, 20, 852, 842, 841, 8, 832, 844]\n",
    "drivers_clean = drivers[drivers.driverId.isin(driver_ids_list)].drop([\"number\", \"forename\", \"surname\", \"dob\", \"nationality\", \"url\", \"driverRef\"], axis=1).reset_index(drop=True)\n",
    "\n",
    "drivers_clean"
   ],
   "metadata": {
    "collapsed": false,
    "pycharm": {
     "name": "#%%\n"
    }
   }
  },
  {
   "cell_type": "code",
   "execution_count": 51,
   "outputs": [
    {
     "data": {
      "text/plain": "      qualifyId  raceId  driverId  constructorId  number  position        q1  \\\n0             1      18         1              1      22         1  1:26.572   \n1             2      18         9              2       4         2  1:26.103   \n2             3      18         5              1      23         3  1:25.664   \n3             4      18        13              6       2         4  1:25.994   \n4             5      18         2              2       3         5  1:25.960   \n...         ...     ...       ...            ...     ...       ...       ...   \n8769       8810    1055       852            213      22        16  1:18.556   \n8770       8811    1055         8             51       7        17  1:18.917   \n8771       8812    1055       854            210      47        18  1:19.117   \n8772       8813    1055       849              3       6        19  1:19.219   \n8773       8814    1055       853            210       9        20  1:19.807   \n\n            q2        q3  \n0     1:25.187  1:26.714  \n1     1:25.315  1:26.869  \n2     1:25.452  1:27.079  \n3     1:25.691  1:27.178  \n4     1:25.518  1:27.236  \n...        ...       ...  \n8769       NaN       NaN  \n8770       NaN       NaN  \n8771       NaN       NaN  \n8772       NaN       NaN  \n8773       NaN       NaN  \n\n[8774 rows x 9 columns]",
      "text/html": "<div>\n<style scoped>\n    .dataframe tbody tr th:only-of-type {\n        vertical-align: middle;\n    }\n\n    .dataframe tbody tr th {\n        vertical-align: top;\n    }\n\n    .dataframe thead th {\n        text-align: right;\n    }\n</style>\n<table border=\"1\" class=\"dataframe\">\n  <thead>\n    <tr style=\"text-align: right;\">\n      <th></th>\n      <th>qualifyId</th>\n      <th>raceId</th>\n      <th>driverId</th>\n      <th>constructorId</th>\n      <th>number</th>\n      <th>position</th>\n      <th>q1</th>\n      <th>q2</th>\n      <th>q3</th>\n    </tr>\n  </thead>\n  <tbody>\n    <tr>\n      <th>0</th>\n      <td>1</td>\n      <td>18</td>\n      <td>1</td>\n      <td>1</td>\n      <td>22</td>\n      <td>1</td>\n      <td>1:26.572</td>\n      <td>1:25.187</td>\n      <td>1:26.714</td>\n    </tr>\n    <tr>\n      <th>1</th>\n      <td>2</td>\n      <td>18</td>\n      <td>9</td>\n      <td>2</td>\n      <td>4</td>\n      <td>2</td>\n      <td>1:26.103</td>\n      <td>1:25.315</td>\n      <td>1:26.869</td>\n    </tr>\n    <tr>\n      <th>2</th>\n      <td>3</td>\n      <td>18</td>\n      <td>5</td>\n      <td>1</td>\n      <td>23</td>\n      <td>3</td>\n      <td>1:25.664</td>\n      <td>1:25.452</td>\n      <td>1:27.079</td>\n    </tr>\n    <tr>\n      <th>3</th>\n      <td>4</td>\n      <td>18</td>\n      <td>13</td>\n      <td>6</td>\n      <td>2</td>\n      <td>4</td>\n      <td>1:25.994</td>\n      <td>1:25.691</td>\n      <td>1:27.178</td>\n    </tr>\n    <tr>\n      <th>4</th>\n      <td>5</td>\n      <td>18</td>\n      <td>2</td>\n      <td>2</td>\n      <td>3</td>\n      <td>5</td>\n      <td>1:25.960</td>\n      <td>1:25.518</td>\n      <td>1:27.236</td>\n    </tr>\n    <tr>\n      <th>...</th>\n      <td>...</td>\n      <td>...</td>\n      <td>...</td>\n      <td>...</td>\n      <td>...</td>\n      <td>...</td>\n      <td>...</td>\n      <td>...</td>\n      <td>...</td>\n    </tr>\n    <tr>\n      <th>8769</th>\n      <td>8810</td>\n      <td>1055</td>\n      <td>852</td>\n      <td>213</td>\n      <td>22</td>\n      <td>16</td>\n      <td>1:18.556</td>\n      <td>NaN</td>\n      <td>NaN</td>\n    </tr>\n    <tr>\n      <th>8770</th>\n      <td>8811</td>\n      <td>1055</td>\n      <td>8</td>\n      <td>51</td>\n      <td>7</td>\n      <td>17</td>\n      <td>1:18.917</td>\n      <td>NaN</td>\n      <td>NaN</td>\n    </tr>\n    <tr>\n      <th>8771</th>\n      <td>8812</td>\n      <td>1055</td>\n      <td>854</td>\n      <td>210</td>\n      <td>47</td>\n      <td>18</td>\n      <td>1:19.117</td>\n      <td>NaN</td>\n      <td>NaN</td>\n    </tr>\n    <tr>\n      <th>8772</th>\n      <td>8813</td>\n      <td>1055</td>\n      <td>849</td>\n      <td>3</td>\n      <td>6</td>\n      <td>19</td>\n      <td>1:19.219</td>\n      <td>NaN</td>\n      <td>NaN</td>\n    </tr>\n    <tr>\n      <th>8773</th>\n      <td>8814</td>\n      <td>1055</td>\n      <td>853</td>\n      <td>210</td>\n      <td>9</td>\n      <td>20</td>\n      <td>1:19.807</td>\n      <td>NaN</td>\n      <td>NaN</td>\n    </tr>\n  </tbody>\n</table>\n<p>8774 rows × 9 columns</p>\n</div>"
     },
     "execution_count": 51,
     "metadata": {},
     "output_type": "execute_result"
    }
   ],
   "source": [
    "qualifying"
   ],
   "metadata": {
    "collapsed": false,
    "pycharm": {
     "name": "#%%\n"
    }
   }
  },
  {
   "cell_type": "code",
   "execution_count": 52,
   "outputs": [],
   "source": [
    "qualifying = qualifying.drop([\"number\", \"qualifyId\", \"position\"], axis=1)"
   ],
   "metadata": {
    "collapsed": false,
    "pycharm": {
     "name": "#%%\n"
    }
   }
  },
  {
   "cell_type": "code",
   "execution_count": 53,
   "outputs": [],
   "source": [
    "test1 = qualifying[[\"raceId\", \"driverId\", \"constructorId\"]].copy()\n"
   ],
   "metadata": {
    "collapsed": false,
    "pycharm": {
     "name": "#%%\n"
    }
   }
  },
  {
   "cell_type": "code",
   "execution_count": 54,
   "outputs": [],
   "source": [
    "test2 = qualifying.drop([\"q2\", \"q3\"], axis=1)\n",
    "test2 = test2.dropna()\n",
    "test2[\"q1_position\"] = test2.sort_values([\"q1\"]).groupby(\"raceId\").cumcount() + 1"
   ],
   "metadata": {
    "collapsed": false,
    "pycharm": {
     "name": "#%%\n"
    }
   }
  },
  {
   "cell_type": "code",
   "execution_count": 55,
   "outputs": [],
   "source": [
    "test3 = qualifying.drop([\"q1\", \"q3\"], axis=1)\n",
    "test3 = test3.dropna()\n",
    "test3[\"q2_position\"] = test3.sort_values([\"q2\"]).groupby(\"raceId\").cumcount() + 1"
   ],
   "metadata": {
    "collapsed": false,
    "pycharm": {
     "name": "#%%\n"
    }
   }
  },
  {
   "cell_type": "code",
   "execution_count": 56,
   "outputs": [],
   "source": [
    "test4 = qualifying.drop([\"q1\", \"q2\"], axis=1)\n",
    "test4 = test4.dropna()\n",
    "test4[\"q3_position\"] = test4.sort_values([\"q3\"]).groupby(\"raceId\").cumcount() + 1"
   ],
   "metadata": {
    "collapsed": false,
    "pycharm": {
     "name": "#%%\n"
    }
   }
  },
  {
   "cell_type": "code",
   "execution_count": 57,
   "outputs": [],
   "source": [
    "test1 = test1.merge(\n",
    "    test2,\n",
    "    on=[\"raceId\", \"driverId\", \"constructorId\"],\n",
    "    how=\"left\"\n",
    ")"
   ],
   "metadata": {
    "collapsed": false,
    "pycharm": {
     "name": "#%%\n"
    }
   }
  },
  {
   "cell_type": "code",
   "execution_count": 58,
   "outputs": [],
   "source": [
    "test1 = test1.merge(\n",
    "    test3,\n",
    "    on=[\"raceId\", \"driverId\", \"constructorId\"],\n",
    "    how=\"left\"\n",
    ")\n",
    "\n",
    "test1 = test1.merge(\n",
    "    test4,\n",
    "    on=[\"raceId\", \"driverId\", \"constructorId\"],\n",
    "    how=\"left\"\n",
    ")"
   ],
   "metadata": {
    "collapsed": false,
    "pycharm": {
     "name": "#%%\n"
    }
   }
  },
  {
   "cell_type": "code",
   "execution_count": 59,
   "outputs": [],
   "source": [
    "cleaned_positions = test1.drop([\"q1\", \"q2\", \"q3\"], axis=1)"
   ],
   "metadata": {
    "collapsed": false,
    "pycharm": {
     "name": "#%%\n"
    }
   }
  },
  {
   "cell_type": "code",
   "execution_count": 60,
   "outputs": [],
   "source": [
    "test_x = cleaned_positions.groupby([\"raceId\"]).transform(lambda x: x.fillna(x.max() + 1))\n",
    "test_x[\"raceId\"] = cleaned_positions[\"raceId\"]"
   ],
   "metadata": {
    "collapsed": false,
    "pycharm": {
     "name": "#%%\n"
    }
   }
  },
  {
   "cell_type": "code",
   "execution_count": 69,
   "outputs": [],
   "source": [
    "qualifying = test_x"
   ],
   "metadata": {
    "collapsed": false,
    "pycharm": {
     "name": "#%%\n"
    }
   }
  },
  {
   "cell_type": "code",
   "execution_count": 70,
   "outputs": [
    {
     "data": {
      "text/plain": "      driverId  constructorId  q1_position  q2_position  q3_position  raceId\n0            1              1         10.0          1.0          1.0      18\n1            9              2          4.0          2.0          2.0      18\n2            5              1          1.0          3.0          3.0      18\n3           13              6          3.0          5.0          4.0      18\n4            2              2          2.0          4.0          5.0      18\n...        ...            ...          ...          ...          ...     ...\n8769       852            213         16.0         16.0         11.0    1055\n8770         8             51         17.0         16.0         11.0    1055\n8771       854            210         18.0         16.0         11.0    1055\n8772       849              3         19.0         16.0         11.0    1055\n8773       853            210         20.0         16.0         11.0    1055\n\n[8774 rows x 6 columns]",
      "text/html": "<div>\n<style scoped>\n    .dataframe tbody tr th:only-of-type {\n        vertical-align: middle;\n    }\n\n    .dataframe tbody tr th {\n        vertical-align: top;\n    }\n\n    .dataframe thead th {\n        text-align: right;\n    }\n</style>\n<table border=\"1\" class=\"dataframe\">\n  <thead>\n    <tr style=\"text-align: right;\">\n      <th></th>\n      <th>driverId</th>\n      <th>constructorId</th>\n      <th>q1_position</th>\n      <th>q2_position</th>\n      <th>q3_position</th>\n      <th>raceId</th>\n    </tr>\n  </thead>\n  <tbody>\n    <tr>\n      <th>0</th>\n      <td>1</td>\n      <td>1</td>\n      <td>10.0</td>\n      <td>1.0</td>\n      <td>1.0</td>\n      <td>18</td>\n    </tr>\n    <tr>\n      <th>1</th>\n      <td>9</td>\n      <td>2</td>\n      <td>4.0</td>\n      <td>2.0</td>\n      <td>2.0</td>\n      <td>18</td>\n    </tr>\n    <tr>\n      <th>2</th>\n      <td>5</td>\n      <td>1</td>\n      <td>1.0</td>\n      <td>3.0</td>\n      <td>3.0</td>\n      <td>18</td>\n    </tr>\n    <tr>\n      <th>3</th>\n      <td>13</td>\n      <td>6</td>\n      <td>3.0</td>\n      <td>5.0</td>\n      <td>4.0</td>\n      <td>18</td>\n    </tr>\n    <tr>\n      <th>4</th>\n      <td>2</td>\n      <td>2</td>\n      <td>2.0</td>\n      <td>4.0</td>\n      <td>5.0</td>\n      <td>18</td>\n    </tr>\n    <tr>\n      <th>...</th>\n      <td>...</td>\n      <td>...</td>\n      <td>...</td>\n      <td>...</td>\n      <td>...</td>\n      <td>...</td>\n    </tr>\n    <tr>\n      <th>8769</th>\n      <td>852</td>\n      <td>213</td>\n      <td>16.0</td>\n      <td>16.0</td>\n      <td>11.0</td>\n      <td>1055</td>\n    </tr>\n    <tr>\n      <th>8770</th>\n      <td>8</td>\n      <td>51</td>\n      <td>17.0</td>\n      <td>16.0</td>\n      <td>11.0</td>\n      <td>1055</td>\n    </tr>\n    <tr>\n      <th>8771</th>\n      <td>854</td>\n      <td>210</td>\n      <td>18.0</td>\n      <td>16.0</td>\n      <td>11.0</td>\n      <td>1055</td>\n    </tr>\n    <tr>\n      <th>8772</th>\n      <td>849</td>\n      <td>3</td>\n      <td>19.0</td>\n      <td>16.0</td>\n      <td>11.0</td>\n      <td>1055</td>\n    </tr>\n    <tr>\n      <th>8773</th>\n      <td>853</td>\n      <td>210</td>\n      <td>20.0</td>\n      <td>16.0</td>\n      <td>11.0</td>\n      <td>1055</td>\n    </tr>\n  </tbody>\n</table>\n<p>8774 rows × 6 columns</p>\n</div>"
     },
     "execution_count": 70,
     "metadata": {},
     "output_type": "execute_result"
    }
   ],
   "source": [
    "qualifying"
   ],
   "metadata": {
    "collapsed": false,
    "pycharm": {
     "name": "#%%\n"
    }
   }
  },
  {
   "cell_type": "code",
   "execution_count": 71,
   "outputs": [],
   "source": [
    "quali_w_results = qualifying.merge(\n",
    "    race_results,\n",
    "    on=[\"raceId\", \"driverId\", \"constructorId\"],\n",
    "    how=\"left\"\n",
    ")"
   ],
   "metadata": {
    "collapsed": false,
    "pycharm": {
     "name": "#%%\n"
    }
   }
  },
  {
   "cell_type": "code",
   "execution_count": 72,
   "outputs": [
    {
     "data": {
      "text/plain": "      driverId  constructorId  q1_position  q2_position  q3_position  raceId  \\\n8534         1            131          2.0          4.0          1.0    1040   \n8535       830              9          5.0          9.0          2.0    1040   \n8536       822            131          1.0          2.0          3.0    1040   \n8537       815            211          7.0          5.0          4.0    1040   \n8538       817              4          6.0          1.0          5.0    1040   \n8539       832              1         12.0          3.0          6.0    1040   \n8540       839              4          4.0         10.0          7.0    1040   \n8541       846              1          9.0          6.0          8.0    1040   \n8542       842            213          8.0          7.0          9.0    1040   \n8543       848              9         11.0          8.0         10.0    1040   \n8544       844              6         14.0         11.0         11.0    1040   \n8545       826            213          3.0         12.0         11.0    1040   \n8546       840            211         10.0         13.0         11.0    1040   \n8547       847              3         13.0         14.0         11.0    1040   \n8548        20              6         15.0         15.0         11.0    1040   \n8549       154            210         16.0         16.0         11.0    1040   \n8550       841             51         17.0         16.0         11.0    1040   \n8551       825            210         18.0         16.0         11.0    1040   \n8552       849              3         19.0         16.0         11.0    1040   \n8553         8             51         20.0         16.0         11.0    1040   \n\n      resultId  number  grid  position  ... positionOrder  points  laps  \\\n8534   24808.0    44.0   1.0       3.0  ...           3.0    15.0  53.0   \n8535   24807.0    33.0   2.0       2.0  ...           2.0    18.0  53.0   \n8536   24806.0    77.0   3.0       1.0  ...           1.0    26.0  53.0   \n8537   24809.0    11.0   4.0       4.0  ...           4.0    12.0  53.0   \n8538   24810.0     3.0   5.0       5.0  ...           5.0    10.0  53.0   \n8539   24824.0    55.0   6.0       NaN  ...          19.0     0.0   0.0   \n8540   24812.0    31.0   7.0       7.0  ...           7.0     6.0  53.0   \n8541   24820.0     4.0   8.0      15.0  ...          15.0     0.0  52.0   \n8542   24814.0    10.0   9.0       9.0  ...           9.0     2.0  53.0   \n8543   24815.0    23.0  15.0      10.0  ...          10.0     1.0  53.0   \n8544   24811.0    16.0  10.0       6.0  ...           6.0     8.0  53.0   \n8545   24813.0    26.0  11.0       8.0  ...           8.0     4.0  53.0   \n8546   24825.0    18.0  12.0       NaN  ...          20.0     0.0   0.0   \n8547   24823.0    63.0  13.0      18.0  ...          18.0     0.0  52.0   \n8548   24818.0     5.0  14.0      13.0  ...          13.0     0.0  52.0   \n8549   24822.0     8.0  16.0      17.0  ...          17.0     0.0  52.0   \n8550   24816.0    99.0  17.0      11.0  ...          11.0     0.0  52.0   \n8551   24817.0    20.0  18.0      12.0  ...          12.0     0.0  52.0   \n8552   24821.0     6.0  20.0      16.0  ...          16.0     0.0  52.0   \n8553   24819.0     7.0  19.0      14.0  ...          14.0     0.0  52.0   \n\n             time milliseconds  fastestLap  rank  fastestLapTime  \\\n8534      +22.729    5663093.0        48.0   7.0        1:38.075   \n8535       +7.729    5648093.0        53.0   3.0        1:37.332   \n8536  1:34:00.364    5640364.0        51.0   1.0        1:37.030   \n8537      +30.558    5670922.0        52.0   8.0        1:38.141   \n8538      +52.065    5692429.0        53.0   6.0        1:37.886   \n8539          NaN          NaN         NaN   0.0             NaN   \n8540    +1:08.006    5708370.0        48.0  13.0        1:39.216   \n8541          NaN          NaN        50.0   5.0        1:37.377   \n8542    +1:29.766    5730130.0        50.0   2.0        1:37.231   \n8543    +1:37.860    5738224.0        51.0   9.0        1:38.377   \n8544    +1:02.186    5702550.0        47.0  11.0        1:39.053   \n8545    +1:08.740    5709104.0        48.0  12.0        1:39.133   \n8546          NaN          NaN         NaN   0.0             NaN   \n8547          NaN          NaN        52.0   4.0        1:37.352   \n8548          NaN          NaN        46.0  14.0        1:39.588   \n8549          NaN          NaN        44.0  15.0        1:39.614   \n8550          NaN          NaN        44.0  16.0        1:39.766   \n8551          NaN          NaN        52.0  17.0        1:40.380   \n8552          NaN          NaN        47.0  18.0        1:41.044   \n8553          NaN          NaN        37.0  10.0        1:38.858   \n\n     fastestLapSpeed  statusId  \n8534         214.660       1.0  \n8535         216.298       1.0  \n8536         216.972       1.0  \n8537         214.515       1.0  \n8538         215.074       1.0  \n8539             NaN       3.0  \n8540         212.191       1.0  \n8541         216.198      11.0  \n8542         216.523       1.0  \n8543         214.001       1.0  \n8544         212.540       1.0  \n8545         212.369       1.0  \n8546             NaN       4.0  \n8547         216.254      11.0  \n8548         211.398      11.0  \n8549         211.343      11.0  \n8550         211.021      11.0  \n8551         209.731      11.0  \n8552         208.352      11.0  \n8553         212.960      11.0  \n\n[20 rows x 21 columns]",
      "text/html": "<div>\n<style scoped>\n    .dataframe tbody tr th:only-of-type {\n        vertical-align: middle;\n    }\n\n    .dataframe tbody tr th {\n        vertical-align: top;\n    }\n\n    .dataframe thead th {\n        text-align: right;\n    }\n</style>\n<table border=\"1\" class=\"dataframe\">\n  <thead>\n    <tr style=\"text-align: right;\">\n      <th></th>\n      <th>driverId</th>\n      <th>constructorId</th>\n      <th>q1_position</th>\n      <th>q2_position</th>\n      <th>q3_position</th>\n      <th>raceId</th>\n      <th>resultId</th>\n      <th>number</th>\n      <th>grid</th>\n      <th>position</th>\n      <th>...</th>\n      <th>positionOrder</th>\n      <th>points</th>\n      <th>laps</th>\n      <th>time</th>\n      <th>milliseconds</th>\n      <th>fastestLap</th>\n      <th>rank</th>\n      <th>fastestLapTime</th>\n      <th>fastestLapSpeed</th>\n      <th>statusId</th>\n    </tr>\n  </thead>\n  <tbody>\n    <tr>\n      <th>8534</th>\n      <td>1</td>\n      <td>131</td>\n      <td>2.0</td>\n      <td>4.0</td>\n      <td>1.0</td>\n      <td>1040</td>\n      <td>24808.0</td>\n      <td>44.0</td>\n      <td>1.0</td>\n      <td>3.0</td>\n      <td>...</td>\n      <td>3.0</td>\n      <td>15.0</td>\n      <td>53.0</td>\n      <td>+22.729</td>\n      <td>5663093.0</td>\n      <td>48.0</td>\n      <td>7.0</td>\n      <td>1:38.075</td>\n      <td>214.660</td>\n      <td>1.0</td>\n    </tr>\n    <tr>\n      <th>8535</th>\n      <td>830</td>\n      <td>9</td>\n      <td>5.0</td>\n      <td>9.0</td>\n      <td>2.0</td>\n      <td>1040</td>\n      <td>24807.0</td>\n      <td>33.0</td>\n      <td>2.0</td>\n      <td>2.0</td>\n      <td>...</td>\n      <td>2.0</td>\n      <td>18.0</td>\n      <td>53.0</td>\n      <td>+7.729</td>\n      <td>5648093.0</td>\n      <td>53.0</td>\n      <td>3.0</td>\n      <td>1:37.332</td>\n      <td>216.298</td>\n      <td>1.0</td>\n    </tr>\n    <tr>\n      <th>8536</th>\n      <td>822</td>\n      <td>131</td>\n      <td>1.0</td>\n      <td>2.0</td>\n      <td>3.0</td>\n      <td>1040</td>\n      <td>24806.0</td>\n      <td>77.0</td>\n      <td>3.0</td>\n      <td>1.0</td>\n      <td>...</td>\n      <td>1.0</td>\n      <td>26.0</td>\n      <td>53.0</td>\n      <td>1:34:00.364</td>\n      <td>5640364.0</td>\n      <td>51.0</td>\n      <td>1.0</td>\n      <td>1:37.030</td>\n      <td>216.972</td>\n      <td>1.0</td>\n    </tr>\n    <tr>\n      <th>8537</th>\n      <td>815</td>\n      <td>211</td>\n      <td>7.0</td>\n      <td>5.0</td>\n      <td>4.0</td>\n      <td>1040</td>\n      <td>24809.0</td>\n      <td>11.0</td>\n      <td>4.0</td>\n      <td>4.0</td>\n      <td>...</td>\n      <td>4.0</td>\n      <td>12.0</td>\n      <td>53.0</td>\n      <td>+30.558</td>\n      <td>5670922.0</td>\n      <td>52.0</td>\n      <td>8.0</td>\n      <td>1:38.141</td>\n      <td>214.515</td>\n      <td>1.0</td>\n    </tr>\n    <tr>\n      <th>8538</th>\n      <td>817</td>\n      <td>4</td>\n      <td>6.0</td>\n      <td>1.0</td>\n      <td>5.0</td>\n      <td>1040</td>\n      <td>24810.0</td>\n      <td>3.0</td>\n      <td>5.0</td>\n      <td>5.0</td>\n      <td>...</td>\n      <td>5.0</td>\n      <td>10.0</td>\n      <td>53.0</td>\n      <td>+52.065</td>\n      <td>5692429.0</td>\n      <td>53.0</td>\n      <td>6.0</td>\n      <td>1:37.886</td>\n      <td>215.074</td>\n      <td>1.0</td>\n    </tr>\n    <tr>\n      <th>8539</th>\n      <td>832</td>\n      <td>1</td>\n      <td>12.0</td>\n      <td>3.0</td>\n      <td>6.0</td>\n      <td>1040</td>\n      <td>24824.0</td>\n      <td>55.0</td>\n      <td>6.0</td>\n      <td>NaN</td>\n      <td>...</td>\n      <td>19.0</td>\n      <td>0.0</td>\n      <td>0.0</td>\n      <td>NaN</td>\n      <td>NaN</td>\n      <td>NaN</td>\n      <td>0.0</td>\n      <td>NaN</td>\n      <td>NaN</td>\n      <td>3.0</td>\n    </tr>\n    <tr>\n      <th>8540</th>\n      <td>839</td>\n      <td>4</td>\n      <td>4.0</td>\n      <td>10.0</td>\n      <td>7.0</td>\n      <td>1040</td>\n      <td>24812.0</td>\n      <td>31.0</td>\n      <td>7.0</td>\n      <td>7.0</td>\n      <td>...</td>\n      <td>7.0</td>\n      <td>6.0</td>\n      <td>53.0</td>\n      <td>+1:08.006</td>\n      <td>5708370.0</td>\n      <td>48.0</td>\n      <td>13.0</td>\n      <td>1:39.216</td>\n      <td>212.191</td>\n      <td>1.0</td>\n    </tr>\n    <tr>\n      <th>8541</th>\n      <td>846</td>\n      <td>1</td>\n      <td>9.0</td>\n      <td>6.0</td>\n      <td>8.0</td>\n      <td>1040</td>\n      <td>24820.0</td>\n      <td>4.0</td>\n      <td>8.0</td>\n      <td>15.0</td>\n      <td>...</td>\n      <td>15.0</td>\n      <td>0.0</td>\n      <td>52.0</td>\n      <td>NaN</td>\n      <td>NaN</td>\n      <td>50.0</td>\n      <td>5.0</td>\n      <td>1:37.377</td>\n      <td>216.198</td>\n      <td>11.0</td>\n    </tr>\n    <tr>\n      <th>8542</th>\n      <td>842</td>\n      <td>213</td>\n      <td>8.0</td>\n      <td>7.0</td>\n      <td>9.0</td>\n      <td>1040</td>\n      <td>24814.0</td>\n      <td>10.0</td>\n      <td>9.0</td>\n      <td>9.0</td>\n      <td>...</td>\n      <td>9.0</td>\n      <td>2.0</td>\n      <td>53.0</td>\n      <td>+1:29.766</td>\n      <td>5730130.0</td>\n      <td>50.0</td>\n      <td>2.0</td>\n      <td>1:37.231</td>\n      <td>216.523</td>\n      <td>1.0</td>\n    </tr>\n    <tr>\n      <th>8543</th>\n      <td>848</td>\n      <td>9</td>\n      <td>11.0</td>\n      <td>8.0</td>\n      <td>10.0</td>\n      <td>1040</td>\n      <td>24815.0</td>\n      <td>23.0</td>\n      <td>15.0</td>\n      <td>10.0</td>\n      <td>...</td>\n      <td>10.0</td>\n      <td>1.0</td>\n      <td>53.0</td>\n      <td>+1:37.860</td>\n      <td>5738224.0</td>\n      <td>51.0</td>\n      <td>9.0</td>\n      <td>1:38.377</td>\n      <td>214.001</td>\n      <td>1.0</td>\n    </tr>\n    <tr>\n      <th>8544</th>\n      <td>844</td>\n      <td>6</td>\n      <td>14.0</td>\n      <td>11.0</td>\n      <td>11.0</td>\n      <td>1040</td>\n      <td>24811.0</td>\n      <td>16.0</td>\n      <td>10.0</td>\n      <td>6.0</td>\n      <td>...</td>\n      <td>6.0</td>\n      <td>8.0</td>\n      <td>53.0</td>\n      <td>+1:02.186</td>\n      <td>5702550.0</td>\n      <td>47.0</td>\n      <td>11.0</td>\n      <td>1:39.053</td>\n      <td>212.540</td>\n      <td>1.0</td>\n    </tr>\n    <tr>\n      <th>8545</th>\n      <td>826</td>\n      <td>213</td>\n      <td>3.0</td>\n      <td>12.0</td>\n      <td>11.0</td>\n      <td>1040</td>\n      <td>24813.0</td>\n      <td>26.0</td>\n      <td>11.0</td>\n      <td>8.0</td>\n      <td>...</td>\n      <td>8.0</td>\n      <td>4.0</td>\n      <td>53.0</td>\n      <td>+1:08.740</td>\n      <td>5709104.0</td>\n      <td>48.0</td>\n      <td>12.0</td>\n      <td>1:39.133</td>\n      <td>212.369</td>\n      <td>1.0</td>\n    </tr>\n    <tr>\n      <th>8546</th>\n      <td>840</td>\n      <td>211</td>\n      <td>10.0</td>\n      <td>13.0</td>\n      <td>11.0</td>\n      <td>1040</td>\n      <td>24825.0</td>\n      <td>18.0</td>\n      <td>12.0</td>\n      <td>NaN</td>\n      <td>...</td>\n      <td>20.0</td>\n      <td>0.0</td>\n      <td>0.0</td>\n      <td>NaN</td>\n      <td>NaN</td>\n      <td>NaN</td>\n      <td>0.0</td>\n      <td>NaN</td>\n      <td>NaN</td>\n      <td>4.0</td>\n    </tr>\n    <tr>\n      <th>8547</th>\n      <td>847</td>\n      <td>3</td>\n      <td>13.0</td>\n      <td>14.0</td>\n      <td>11.0</td>\n      <td>1040</td>\n      <td>24823.0</td>\n      <td>63.0</td>\n      <td>13.0</td>\n      <td>18.0</td>\n      <td>...</td>\n      <td>18.0</td>\n      <td>0.0</td>\n      <td>52.0</td>\n      <td>NaN</td>\n      <td>NaN</td>\n      <td>52.0</td>\n      <td>4.0</td>\n      <td>1:37.352</td>\n      <td>216.254</td>\n      <td>11.0</td>\n    </tr>\n    <tr>\n      <th>8548</th>\n      <td>20</td>\n      <td>6</td>\n      <td>15.0</td>\n      <td>15.0</td>\n      <td>11.0</td>\n      <td>1040</td>\n      <td>24818.0</td>\n      <td>5.0</td>\n      <td>14.0</td>\n      <td>13.0</td>\n      <td>...</td>\n      <td>13.0</td>\n      <td>0.0</td>\n      <td>52.0</td>\n      <td>NaN</td>\n      <td>NaN</td>\n      <td>46.0</td>\n      <td>14.0</td>\n      <td>1:39.588</td>\n      <td>211.398</td>\n      <td>11.0</td>\n    </tr>\n    <tr>\n      <th>8549</th>\n      <td>154</td>\n      <td>210</td>\n      <td>16.0</td>\n      <td>16.0</td>\n      <td>11.0</td>\n      <td>1040</td>\n      <td>24822.0</td>\n      <td>8.0</td>\n      <td>16.0</td>\n      <td>17.0</td>\n      <td>...</td>\n      <td>17.0</td>\n      <td>0.0</td>\n      <td>52.0</td>\n      <td>NaN</td>\n      <td>NaN</td>\n      <td>44.0</td>\n      <td>15.0</td>\n      <td>1:39.614</td>\n      <td>211.343</td>\n      <td>11.0</td>\n    </tr>\n    <tr>\n      <th>8550</th>\n      <td>841</td>\n      <td>51</td>\n      <td>17.0</td>\n      <td>16.0</td>\n      <td>11.0</td>\n      <td>1040</td>\n      <td>24816.0</td>\n      <td>99.0</td>\n      <td>17.0</td>\n      <td>11.0</td>\n      <td>...</td>\n      <td>11.0</td>\n      <td>0.0</td>\n      <td>52.0</td>\n      <td>NaN</td>\n      <td>NaN</td>\n      <td>44.0</td>\n      <td>16.0</td>\n      <td>1:39.766</td>\n      <td>211.021</td>\n      <td>11.0</td>\n    </tr>\n    <tr>\n      <th>8551</th>\n      <td>825</td>\n      <td>210</td>\n      <td>18.0</td>\n      <td>16.0</td>\n      <td>11.0</td>\n      <td>1040</td>\n      <td>24817.0</td>\n      <td>20.0</td>\n      <td>18.0</td>\n      <td>12.0</td>\n      <td>...</td>\n      <td>12.0</td>\n      <td>0.0</td>\n      <td>52.0</td>\n      <td>NaN</td>\n      <td>NaN</td>\n      <td>52.0</td>\n      <td>17.0</td>\n      <td>1:40.380</td>\n      <td>209.731</td>\n      <td>11.0</td>\n    </tr>\n    <tr>\n      <th>8552</th>\n      <td>849</td>\n      <td>3</td>\n      <td>19.0</td>\n      <td>16.0</td>\n      <td>11.0</td>\n      <td>1040</td>\n      <td>24821.0</td>\n      <td>6.0</td>\n      <td>20.0</td>\n      <td>16.0</td>\n      <td>...</td>\n      <td>16.0</td>\n      <td>0.0</td>\n      <td>52.0</td>\n      <td>NaN</td>\n      <td>NaN</td>\n      <td>47.0</td>\n      <td>18.0</td>\n      <td>1:41.044</td>\n      <td>208.352</td>\n      <td>11.0</td>\n    </tr>\n    <tr>\n      <th>8553</th>\n      <td>8</td>\n      <td>51</td>\n      <td>20.0</td>\n      <td>16.0</td>\n      <td>11.0</td>\n      <td>1040</td>\n      <td>24819.0</td>\n      <td>7.0</td>\n      <td>19.0</td>\n      <td>14.0</td>\n      <td>...</td>\n      <td>14.0</td>\n      <td>0.0</td>\n      <td>52.0</td>\n      <td>NaN</td>\n      <td>NaN</td>\n      <td>37.0</td>\n      <td>10.0</td>\n      <td>1:38.858</td>\n      <td>212.960</td>\n      <td>11.0</td>\n    </tr>\n  </tbody>\n</table>\n<p>20 rows × 21 columns</p>\n</div>"
     },
     "execution_count": 72,
     "metadata": {},
     "output_type": "execute_result"
    }
   ],
   "source": [
    "# quali_results = quali_results.drop([\"resultId\", \"\"])\n",
    "quali_w_results[quali_w_results.raceId == 1040]"
   ],
   "metadata": {
    "collapsed": false,
    "pycharm": {
     "name": "#%%\n"
    }
   }
  },
  {
   "cell_type": "code",
   "execution_count": 73,
   "outputs": [
    {
     "data": {
      "text/plain": "      driverId  constructorId  q1_position  q2_position  q3_position  raceId  \\\n0            1              1         10.0          1.0          1.0      18   \n1            9              2          4.0          2.0          2.0      18   \n2            5              1          1.0          3.0          3.0      18   \n3           13              6          3.0          5.0          4.0      18   \n4            2              2          2.0          4.0          5.0      18   \n...        ...            ...          ...          ...          ...     ...   \n8769       852            213         16.0         16.0         11.0    1055   \n8770         8             51         17.0         16.0         11.0    1055   \n8771       854            210         18.0         16.0         11.0    1055   \n8772       849              3         19.0         16.0         11.0    1055   \n8773       853            210         20.0         16.0         11.0    1055   \n\n      position  \n0          1.0  \n1          NaN  \n2          5.0  \n3          NaN  \n4          2.0  \n...        ...  \n8769       NaN  \n8770      12.0  \n8771      18.0  \n8772      16.0  \n8773      19.0  \n\n[8774 rows x 7 columns]",
      "text/html": "<div>\n<style scoped>\n    .dataframe tbody tr th:only-of-type {\n        vertical-align: middle;\n    }\n\n    .dataframe tbody tr th {\n        vertical-align: top;\n    }\n\n    .dataframe thead th {\n        text-align: right;\n    }\n</style>\n<table border=\"1\" class=\"dataframe\">\n  <thead>\n    <tr style=\"text-align: right;\">\n      <th></th>\n      <th>driverId</th>\n      <th>constructorId</th>\n      <th>q1_position</th>\n      <th>q2_position</th>\n      <th>q3_position</th>\n      <th>raceId</th>\n      <th>position</th>\n    </tr>\n  </thead>\n  <tbody>\n    <tr>\n      <th>0</th>\n      <td>1</td>\n      <td>1</td>\n      <td>10.0</td>\n      <td>1.0</td>\n      <td>1.0</td>\n      <td>18</td>\n      <td>1.0</td>\n    </tr>\n    <tr>\n      <th>1</th>\n      <td>9</td>\n      <td>2</td>\n      <td>4.0</td>\n      <td>2.0</td>\n      <td>2.0</td>\n      <td>18</td>\n      <td>NaN</td>\n    </tr>\n    <tr>\n      <th>2</th>\n      <td>5</td>\n      <td>1</td>\n      <td>1.0</td>\n      <td>3.0</td>\n      <td>3.0</td>\n      <td>18</td>\n      <td>5.0</td>\n    </tr>\n    <tr>\n      <th>3</th>\n      <td>13</td>\n      <td>6</td>\n      <td>3.0</td>\n      <td>5.0</td>\n      <td>4.0</td>\n      <td>18</td>\n      <td>NaN</td>\n    </tr>\n    <tr>\n      <th>4</th>\n      <td>2</td>\n      <td>2</td>\n      <td>2.0</td>\n      <td>4.0</td>\n      <td>5.0</td>\n      <td>18</td>\n      <td>2.0</td>\n    </tr>\n    <tr>\n      <th>...</th>\n      <td>...</td>\n      <td>...</td>\n      <td>...</td>\n      <td>...</td>\n      <td>...</td>\n      <td>...</td>\n      <td>...</td>\n    </tr>\n    <tr>\n      <th>8769</th>\n      <td>852</td>\n      <td>213</td>\n      <td>16.0</td>\n      <td>16.0</td>\n      <td>11.0</td>\n      <td>1055</td>\n      <td>NaN</td>\n    </tr>\n    <tr>\n      <th>8770</th>\n      <td>8</td>\n      <td>51</td>\n      <td>17.0</td>\n      <td>16.0</td>\n      <td>11.0</td>\n      <td>1055</td>\n      <td>12.0</td>\n    </tr>\n    <tr>\n      <th>8771</th>\n      <td>854</td>\n      <td>210</td>\n      <td>18.0</td>\n      <td>16.0</td>\n      <td>11.0</td>\n      <td>1055</td>\n      <td>18.0</td>\n    </tr>\n    <tr>\n      <th>8772</th>\n      <td>849</td>\n      <td>3</td>\n      <td>19.0</td>\n      <td>16.0</td>\n      <td>11.0</td>\n      <td>1055</td>\n      <td>16.0</td>\n    </tr>\n    <tr>\n      <th>8773</th>\n      <td>853</td>\n      <td>210</td>\n      <td>20.0</td>\n      <td>16.0</td>\n      <td>11.0</td>\n      <td>1055</td>\n      <td>19.0</td>\n    </tr>\n  </tbody>\n</table>\n<p>8774 rows × 7 columns</p>\n</div>"
     },
     "execution_count": 73,
     "metadata": {},
     "output_type": "execute_result"
    }
   ],
   "source": [
    "quali_w_results = quali_w_results.drop([\"resultId\", \"number\", \"grid\", \"positionText\",\n",
    "                      \"positionOrder\", \"points\",\"laps\", \"time\",\n",
    "                      \"milliseconds\", \"fastestLap\", \"rank\",\n",
    "                      \"fastestLapTime\", \"fastestLapSpeed\", \"statusId\"], axis=1)\n",
    "\n",
    "quali_w_results"
   ],
   "metadata": {
    "collapsed": false,
    "pycharm": {
     "name": "#%%\n"
    }
   }
  },
  {
   "cell_type": "code",
   "execution_count": 89,
   "outputs": [],
   "source": [
    "quali_w_results_clean = quali_w_results.copy()"
   ],
   "metadata": {
    "collapsed": false,
    "pycharm": {
     "name": "#%%\n"
    }
   }
  },
  {
   "cell_type": "code",
   "execution_count": 90,
   "outputs": [],
   "source": [
    "quali_w_results_clean = quali_w_results_clean.groupby([\"raceId\"]).transform(lambda x: x.fillna(x.max() + 1))\n",
    "quali_w_results_clean[\"raceId\"] = quali_w_results[\"raceId\"]"
   ],
   "metadata": {
    "collapsed": false,
    "pycharm": {
     "name": "#%%\n"
    }
   }
  },
  {
   "cell_type": "code",
   "execution_count": 91,
   "outputs": [
    {
     "data": {
      "text/plain": "      driverId  constructorId  q1_position  q2_position  q3_position  \\\n0            1              1         10.0          1.0          1.0   \n1            9              2          4.0          2.0          2.0   \n2            5              1          1.0          3.0          3.0   \n3           13              6          3.0          5.0          4.0   \n4            2              2          2.0          4.0          5.0   \n...        ...            ...          ...          ...          ...   \n8769       852            213         16.0         16.0         11.0   \n8770         8             51         17.0         16.0         11.0   \n8771       854            210         18.0         16.0         11.0   \n8772       849              3         19.0         16.0         11.0   \n8773       853            210         20.0         16.0         11.0   \n\n      position  raceId  \n0          1.0      18  \n1          9.0      18  \n2          5.0      18  \n3          9.0      18  \n4          2.0      18  \n...        ...     ...  \n8769      20.0    1055  \n8770      12.0    1055  \n8771      18.0    1055  \n8772      16.0    1055  \n8773      19.0    1055  \n\n[8774 rows x 7 columns]",
      "text/html": "<div>\n<style scoped>\n    .dataframe tbody tr th:only-of-type {\n        vertical-align: middle;\n    }\n\n    .dataframe tbody tr th {\n        vertical-align: top;\n    }\n\n    .dataframe thead th {\n        text-align: right;\n    }\n</style>\n<table border=\"1\" class=\"dataframe\">\n  <thead>\n    <tr style=\"text-align: right;\">\n      <th></th>\n      <th>driverId</th>\n      <th>constructorId</th>\n      <th>q1_position</th>\n      <th>q2_position</th>\n      <th>q3_position</th>\n      <th>position</th>\n      <th>raceId</th>\n    </tr>\n  </thead>\n  <tbody>\n    <tr>\n      <th>0</th>\n      <td>1</td>\n      <td>1</td>\n      <td>10.0</td>\n      <td>1.0</td>\n      <td>1.0</td>\n      <td>1.0</td>\n      <td>18</td>\n    </tr>\n    <tr>\n      <th>1</th>\n      <td>9</td>\n      <td>2</td>\n      <td>4.0</td>\n      <td>2.0</td>\n      <td>2.0</td>\n      <td>9.0</td>\n      <td>18</td>\n    </tr>\n    <tr>\n      <th>2</th>\n      <td>5</td>\n      <td>1</td>\n      <td>1.0</td>\n      <td>3.0</td>\n      <td>3.0</td>\n      <td>5.0</td>\n      <td>18</td>\n    </tr>\n    <tr>\n      <th>3</th>\n      <td>13</td>\n      <td>6</td>\n      <td>3.0</td>\n      <td>5.0</td>\n      <td>4.0</td>\n      <td>9.0</td>\n      <td>18</td>\n    </tr>\n    <tr>\n      <th>4</th>\n      <td>2</td>\n      <td>2</td>\n      <td>2.0</td>\n      <td>4.0</td>\n      <td>5.0</td>\n      <td>2.0</td>\n      <td>18</td>\n    </tr>\n    <tr>\n      <th>...</th>\n      <td>...</td>\n      <td>...</td>\n      <td>...</td>\n      <td>...</td>\n      <td>...</td>\n      <td>...</td>\n      <td>...</td>\n    </tr>\n    <tr>\n      <th>8769</th>\n      <td>852</td>\n      <td>213</td>\n      <td>16.0</td>\n      <td>16.0</td>\n      <td>11.0</td>\n      <td>20.0</td>\n      <td>1055</td>\n    </tr>\n    <tr>\n      <th>8770</th>\n      <td>8</td>\n      <td>51</td>\n      <td>17.0</td>\n      <td>16.0</td>\n      <td>11.0</td>\n      <td>12.0</td>\n      <td>1055</td>\n    </tr>\n    <tr>\n      <th>8771</th>\n      <td>854</td>\n      <td>210</td>\n      <td>18.0</td>\n      <td>16.0</td>\n      <td>11.0</td>\n      <td>18.0</td>\n      <td>1055</td>\n    </tr>\n    <tr>\n      <th>8772</th>\n      <td>849</td>\n      <td>3</td>\n      <td>19.0</td>\n      <td>16.0</td>\n      <td>11.0</td>\n      <td>16.0</td>\n      <td>1055</td>\n    </tr>\n    <tr>\n      <th>8773</th>\n      <td>853</td>\n      <td>210</td>\n      <td>20.0</td>\n      <td>16.0</td>\n      <td>11.0</td>\n      <td>19.0</td>\n      <td>1055</td>\n    </tr>\n  </tbody>\n</table>\n<p>8774 rows × 7 columns</p>\n</div>"
     },
     "execution_count": 91,
     "metadata": {},
     "output_type": "execute_result"
    }
   ],
   "source": [
    "quali_w_results_clean"
   ],
   "metadata": {
    "collapsed": false,
    "pycharm": {
     "name": "#%%\n"
    }
   }
  },
  {
   "cell_type": "code",
   "execution_count": 96,
   "outputs": [],
   "source": [
    "quali_w_results_clean = quali_w_results_clean.rename(columns=\n",
    "    {\n",
    "        \"position\": \"driver_standing\"\n",
    "    }\n",
    ")"
   ],
   "metadata": {
    "collapsed": false,
    "pycharm": {
     "name": "#%%\n"
    }
   }
  },
  {
   "cell_type": "code",
   "execution_count": 106,
   "outputs": [],
   "source": [
    "#merging in constructor results\n",
    "results = quali_w_results_clean.copy()\n",
    "results_w_races = results.merge(\n",
    "    races,\n",
    "    on=\"raceId\",\n",
    "    how=\"left\"\n",
    ")"
   ],
   "metadata": {
    "collapsed": false,
    "pycharm": {
     "name": "#%%\n"
    }
   }
  },
  {
   "cell_type": "code",
   "execution_count": 107,
   "outputs": [
    {
     "data": {
      "text/plain": "      driverId  constructorId  q1_position  q2_position  q3_position  \\\n0            1              1         10.0          1.0          1.0   \n1            9              2          4.0          2.0          2.0   \n2            5              1          1.0          3.0          3.0   \n3           13              6          3.0          5.0          4.0   \n4            2              2          2.0          4.0          5.0   \n...        ...            ...          ...          ...          ...   \n8769       852            213         16.0         16.0         11.0   \n8770         8             51         17.0         16.0         11.0   \n8771       854            210         18.0         16.0         11.0   \n8772       849              3         19.0         16.0         11.0   \n8773       853            210         20.0         16.0         11.0   \n\n      driver_standing  raceId  year  circuitId  \n0                 1.0      18  2008          1  \n1                 9.0      18  2008          1  \n2                 5.0      18  2008          1  \n3                 9.0      18  2008          1  \n4                 2.0      18  2008          1  \n...               ...     ...   ...        ...  \n8769             20.0    1055  2021          4  \n8770             12.0    1055  2021          4  \n8771             18.0    1055  2021          4  \n8772             16.0    1055  2021          4  \n8773             19.0    1055  2021          4  \n\n[8774 rows x 9 columns]",
      "text/html": "<div>\n<style scoped>\n    .dataframe tbody tr th:only-of-type {\n        vertical-align: middle;\n    }\n\n    .dataframe tbody tr th {\n        vertical-align: top;\n    }\n\n    .dataframe thead th {\n        text-align: right;\n    }\n</style>\n<table border=\"1\" class=\"dataframe\">\n  <thead>\n    <tr style=\"text-align: right;\">\n      <th></th>\n      <th>driverId</th>\n      <th>constructorId</th>\n      <th>q1_position</th>\n      <th>q2_position</th>\n      <th>q3_position</th>\n      <th>driver_standing</th>\n      <th>raceId</th>\n      <th>year</th>\n      <th>circuitId</th>\n    </tr>\n  </thead>\n  <tbody>\n    <tr>\n      <th>0</th>\n      <td>1</td>\n      <td>1</td>\n      <td>10.0</td>\n      <td>1.0</td>\n      <td>1.0</td>\n      <td>1.0</td>\n      <td>18</td>\n      <td>2008</td>\n      <td>1</td>\n    </tr>\n    <tr>\n      <th>1</th>\n      <td>9</td>\n      <td>2</td>\n      <td>4.0</td>\n      <td>2.0</td>\n      <td>2.0</td>\n      <td>9.0</td>\n      <td>18</td>\n      <td>2008</td>\n      <td>1</td>\n    </tr>\n    <tr>\n      <th>2</th>\n      <td>5</td>\n      <td>1</td>\n      <td>1.0</td>\n      <td>3.0</td>\n      <td>3.0</td>\n      <td>5.0</td>\n      <td>18</td>\n      <td>2008</td>\n      <td>1</td>\n    </tr>\n    <tr>\n      <th>3</th>\n      <td>13</td>\n      <td>6</td>\n      <td>3.0</td>\n      <td>5.0</td>\n      <td>4.0</td>\n      <td>9.0</td>\n      <td>18</td>\n      <td>2008</td>\n      <td>1</td>\n    </tr>\n    <tr>\n      <th>4</th>\n      <td>2</td>\n      <td>2</td>\n      <td>2.0</td>\n      <td>4.0</td>\n      <td>5.0</td>\n      <td>2.0</td>\n      <td>18</td>\n      <td>2008</td>\n      <td>1</td>\n    </tr>\n    <tr>\n      <th>...</th>\n      <td>...</td>\n      <td>...</td>\n      <td>...</td>\n      <td>...</td>\n      <td>...</td>\n      <td>...</td>\n      <td>...</td>\n      <td>...</td>\n      <td>...</td>\n    </tr>\n    <tr>\n      <th>8769</th>\n      <td>852</td>\n      <td>213</td>\n      <td>16.0</td>\n      <td>16.0</td>\n      <td>11.0</td>\n      <td>20.0</td>\n      <td>1055</td>\n      <td>2021</td>\n      <td>4</td>\n    </tr>\n    <tr>\n      <th>8770</th>\n      <td>8</td>\n      <td>51</td>\n      <td>17.0</td>\n      <td>16.0</td>\n      <td>11.0</td>\n      <td>12.0</td>\n      <td>1055</td>\n      <td>2021</td>\n      <td>4</td>\n    </tr>\n    <tr>\n      <th>8771</th>\n      <td>854</td>\n      <td>210</td>\n      <td>18.0</td>\n      <td>16.0</td>\n      <td>11.0</td>\n      <td>18.0</td>\n      <td>1055</td>\n      <td>2021</td>\n      <td>4</td>\n    </tr>\n    <tr>\n      <th>8772</th>\n      <td>849</td>\n      <td>3</td>\n      <td>19.0</td>\n      <td>16.0</td>\n      <td>11.0</td>\n      <td>16.0</td>\n      <td>1055</td>\n      <td>2021</td>\n      <td>4</td>\n    </tr>\n    <tr>\n      <th>8773</th>\n      <td>853</td>\n      <td>210</td>\n      <td>20.0</td>\n      <td>16.0</td>\n      <td>11.0</td>\n      <td>19.0</td>\n      <td>1055</td>\n      <td>2021</td>\n      <td>4</td>\n    </tr>\n  </tbody>\n</table>\n<p>8774 rows × 9 columns</p>\n</div>"
     },
     "execution_count": 107,
     "metadata": {},
     "output_type": "execute_result"
    }
   ],
   "source": [
    "results_w_races = results_w_races.drop([\"round\", \"name\", \"date\", \"time\", \"url\"], axis=1)\n",
    "results_w_races\n"
   ],
   "metadata": {
    "collapsed": false,
    "pycharm": {
     "name": "#%%\n"
    }
   }
  },
  {
   "cell_type": "code",
   "execution_count": 132,
   "outputs": [],
   "source": [
    "constructors_clean = constructor_results.copy()\n",
    "constructors_clean = constructors_clean.drop([\"constructorResultsId\", \"status\"], axis=1)\n",
    "# constructors_clean = constructors_clean.rename(\n",
    "#     columns={\n",
    "#         \"points\": \"constructor_standing\"\n",
    "#     }\n",
    "# )"
   ],
   "metadata": {
    "collapsed": false,
    "pycharm": {
     "name": "#%%\n"
    }
   }
  },
  {
   "cell_type": "code",
   "execution_count": 133,
   "outputs": [],
   "source": [
    "constructors_clean[\"constructor_standing\"] = constructors_clean.sort_values([\"points\"]).groupby(\"raceId\").cumcount() + 1\n",
    "constructors_clean = constructors_clean.drop([\"points\"], axis=1)"
   ],
   "metadata": {
    "collapsed": false,
    "pycharm": {
     "name": "#%%\n"
    }
   }
  },
  {
   "cell_type": "code",
   "execution_count": 134,
   "outputs": [],
   "source": [
    "final_data = results_w_races.merge(\n",
    "    constructors_clean,\n",
    "    on=[\"raceId\", \"constructorId\"],\n",
    "    how=\"left\"\n",
    ")"
   ],
   "metadata": {
    "collapsed": false,
    "pycharm": {
     "name": "#%%\n"
    }
   }
  },
  {
   "cell_type": "code",
   "execution_count": 135,
   "outputs": [],
   "source": [
    "final_data = final_data.merge(\n",
    "    drivers_clean,\n",
    "    on=\"driverId\",\n",
    "    how=\"right\"\n",
    ")\n",
    "\n",
    "final_data.columns = [\"driver_id\", \"constructor_id\",\n",
    "                      \"q1_position\", \"q2_position\",\n",
    "                      \"q3_position\", \"driver_standing\", \"race_id\",\n",
    "                      \"year\", \"circuit_id\", \"constructor_standing\",\n",
    "                      \"driver_code\"]"
   ],
   "metadata": {
    "collapsed": false,
    "pycharm": {
     "name": "#%%\n"
    }
   }
  },
  {
   "cell_type": "code",
   "execution_count": 136,
   "outputs": [
    {
     "data": {
      "text/plain": "      driver_id  constructor_id  q1_position  q2_position  q3_position  \\\n0             1               1         10.0          1.0          1.0   \n1             1               1          4.0          3.0          4.0   \n2             1               1          4.0          5.0          3.0   \n3             1               1          4.0          7.0          5.0   \n4             1               1          2.0          6.0          3.0   \n...         ...             ...          ...          ...          ...   \n2367        853             210         20.0         16.0         11.0   \n2368        854             210         19.0         16.0         11.0   \n2369        854             210         18.0         16.0         10.0   \n2370        854             210         19.0         16.0         11.0   \n2371        854             210         18.0         16.0         11.0   \n\n      driver_standing  race_id  year  circuit_id  constructor_standing  \\\n0                 1.0       18  2008           1                  11.0   \n1                 5.0       19  2008           2                  10.0   \n2                13.0       20  2008           3                   9.0   \n3                 3.0       21  2008           4                  10.0   \n4                 2.0       22  2008           5                   8.0   \n...               ...      ...   ...         ...                   ...   \n2367             19.0     1055  2021           4                   4.0   \n2368             16.0     1052  2021           3                   1.0   \n2369             16.0     1053  2021          21                   2.0   \n2370             17.0     1054  2021          75                   1.0   \n2371             18.0     1055  2021           4                   4.0   \n\n     driver_code  \n0            HAM  \n1            HAM  \n2            HAM  \n3            HAM  \n4            HAM  \n...          ...  \n2367         MAZ  \n2368         MSC  \n2369         MSC  \n2370         MSC  \n2371         MSC  \n\n[2372 rows x 11 columns]",
      "text/html": "<div>\n<style scoped>\n    .dataframe tbody tr th:only-of-type {\n        vertical-align: middle;\n    }\n\n    .dataframe tbody tr th {\n        vertical-align: top;\n    }\n\n    .dataframe thead th {\n        text-align: right;\n    }\n</style>\n<table border=\"1\" class=\"dataframe\">\n  <thead>\n    <tr style=\"text-align: right;\">\n      <th></th>\n      <th>driver_id</th>\n      <th>constructor_id</th>\n      <th>q1_position</th>\n      <th>q2_position</th>\n      <th>q3_position</th>\n      <th>driver_standing</th>\n      <th>race_id</th>\n      <th>year</th>\n      <th>circuit_id</th>\n      <th>constructor_standing</th>\n      <th>driver_code</th>\n    </tr>\n  </thead>\n  <tbody>\n    <tr>\n      <th>0</th>\n      <td>1</td>\n      <td>1</td>\n      <td>10.0</td>\n      <td>1.0</td>\n      <td>1.0</td>\n      <td>1.0</td>\n      <td>18</td>\n      <td>2008</td>\n      <td>1</td>\n      <td>11.0</td>\n      <td>HAM</td>\n    </tr>\n    <tr>\n      <th>1</th>\n      <td>1</td>\n      <td>1</td>\n      <td>4.0</td>\n      <td>3.0</td>\n      <td>4.0</td>\n      <td>5.0</td>\n      <td>19</td>\n      <td>2008</td>\n      <td>2</td>\n      <td>10.0</td>\n      <td>HAM</td>\n    </tr>\n    <tr>\n      <th>2</th>\n      <td>1</td>\n      <td>1</td>\n      <td>4.0</td>\n      <td>5.0</td>\n      <td>3.0</td>\n      <td>13.0</td>\n      <td>20</td>\n      <td>2008</td>\n      <td>3</td>\n      <td>9.0</td>\n      <td>HAM</td>\n    </tr>\n    <tr>\n      <th>3</th>\n      <td>1</td>\n      <td>1</td>\n      <td>4.0</td>\n      <td>7.0</td>\n      <td>5.0</td>\n      <td>3.0</td>\n      <td>21</td>\n      <td>2008</td>\n      <td>4</td>\n      <td>10.0</td>\n      <td>HAM</td>\n    </tr>\n    <tr>\n      <th>4</th>\n      <td>1</td>\n      <td>1</td>\n      <td>2.0</td>\n      <td>6.0</td>\n      <td>3.0</td>\n      <td>2.0</td>\n      <td>22</td>\n      <td>2008</td>\n      <td>5</td>\n      <td>8.0</td>\n      <td>HAM</td>\n    </tr>\n    <tr>\n      <th>...</th>\n      <td>...</td>\n      <td>...</td>\n      <td>...</td>\n      <td>...</td>\n      <td>...</td>\n      <td>...</td>\n      <td>...</td>\n      <td>...</td>\n      <td>...</td>\n      <td>...</td>\n      <td>...</td>\n    </tr>\n    <tr>\n      <th>2367</th>\n      <td>853</td>\n      <td>210</td>\n      <td>20.0</td>\n      <td>16.0</td>\n      <td>11.0</td>\n      <td>19.0</td>\n      <td>1055</td>\n      <td>2021</td>\n      <td>4</td>\n      <td>4.0</td>\n      <td>MAZ</td>\n    </tr>\n    <tr>\n      <th>2368</th>\n      <td>854</td>\n      <td>210</td>\n      <td>19.0</td>\n      <td>16.0</td>\n      <td>11.0</td>\n      <td>16.0</td>\n      <td>1052</td>\n      <td>2021</td>\n      <td>3</td>\n      <td>1.0</td>\n      <td>MSC</td>\n    </tr>\n    <tr>\n      <th>2369</th>\n      <td>854</td>\n      <td>210</td>\n      <td>18.0</td>\n      <td>16.0</td>\n      <td>10.0</td>\n      <td>16.0</td>\n      <td>1053</td>\n      <td>2021</td>\n      <td>21</td>\n      <td>2.0</td>\n      <td>MSC</td>\n    </tr>\n    <tr>\n      <th>2370</th>\n      <td>854</td>\n      <td>210</td>\n      <td>19.0</td>\n      <td>16.0</td>\n      <td>11.0</td>\n      <td>17.0</td>\n      <td>1054</td>\n      <td>2021</td>\n      <td>75</td>\n      <td>1.0</td>\n      <td>MSC</td>\n    </tr>\n    <tr>\n      <th>2371</th>\n      <td>854</td>\n      <td>210</td>\n      <td>18.0</td>\n      <td>16.0</td>\n      <td>11.0</td>\n      <td>18.0</td>\n      <td>1055</td>\n      <td>2021</td>\n      <td>4</td>\n      <td>4.0</td>\n      <td>MSC</td>\n    </tr>\n  </tbody>\n</table>\n<p>2372 rows × 11 columns</p>\n</div>"
     },
     "execution_count": 136,
     "metadata": {},
     "output_type": "execute_result"
    }
   ],
   "source": [
    "final_data\n"
   ],
   "metadata": {
    "collapsed": false,
    "pycharm": {
     "name": "#%%\n"
    }
   }
  }
 ],
 "metadata": {
  "kernelspec": {
   "display_name": "Python 3",
   "language": "python",
   "name": "python3"
  },
  "language_info": {
   "codemirror_mode": {
    "name": "ipython",
    "version": 2
   },
   "file_extension": ".py",
   "mimetype": "text/x-python",
   "name": "python",
   "nbconvert_exporter": "python",
   "pygments_lexer": "ipython2",
   "version": "2.7.6"
  }
 },
 "nbformat": 4,
 "nbformat_minor": 0
}