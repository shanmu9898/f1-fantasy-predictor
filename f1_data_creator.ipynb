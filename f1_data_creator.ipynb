{
 "cells": [
  {
   "cell_type": "code",
   "execution_count": 265,
   "metadata": {
    "collapsed": true
   },
   "outputs": [],
   "source": [
    "import pandas as pd\n",
    "import numpy as np\n",
    "\n",
    "from sklearn.model_selection import train_test_split\n"
   ]
  },
  {
   "cell_type": "code",
   "execution_count": 266,
   "outputs": [],
   "source": [
    "df_template = pd.DataFrame(columns=[\"driver_id, driver_ref, q1_position, q2_position, q3_position, circuit, constructor_standing, driver_standing, year, constructor, quali_position\"])"
   ],
   "metadata": {
    "collapsed": false,
    "pycharm": {
     "name": "#%%\n"
    }
   }
  },
  {
   "cell_type": "code",
   "execution_count": 267,
   "outputs": [],
   "source": [
    "drivers = pd.read_csv(\"archive/drivers.csv\")\n",
    "qualifying = pd.read_csv(\"archive/qualifying.csv\")\n",
    "constructor_results = pd.read_csv(\"archive/constructor_results.csv\")\n",
    "race_results = pd.read_csv(\"archive/results.csv\")\n",
    "constructors = pd.read_csv(\"archive/constructors.csv\")\n",
    "races = pd.read_csv(\"archive/races.csv\")"
   ],
   "metadata": {
    "collapsed": false,
    "pycharm": {
     "name": "#%%\n"
    }
   }
  },
  {
   "cell_type": "code",
   "execution_count": 268,
   "outputs": [
    {
     "data": {
      "text/plain": "    driverId code\n0          1  HAM\n1          4  ALO\n2          8  RAI\n3         20  VET\n4        842  GAS\n5        815  PER\n6        817  RIC\n7        822  BOT\n8        830  VER\n9        832  SAI\n10       839  OCO\n11       840  STR\n12       841  GIO\n13       844  LEC\n14       846  NOR\n15       847  RUS\n16       849  LAT\n17       852  TSU\n18       853  MAZ\n19       854  MSC",
      "text/html": "<div>\n<style scoped>\n    .dataframe tbody tr th:only-of-type {\n        vertical-align: middle;\n    }\n\n    .dataframe tbody tr th {\n        vertical-align: top;\n    }\n\n    .dataframe thead th {\n        text-align: right;\n    }\n</style>\n<table border=\"1\" class=\"dataframe\">\n  <thead>\n    <tr style=\"text-align: right;\">\n      <th></th>\n      <th>driverId</th>\n      <th>code</th>\n    </tr>\n  </thead>\n  <tbody>\n    <tr>\n      <th>0</th>\n      <td>1</td>\n      <td>HAM</td>\n    </tr>\n    <tr>\n      <th>1</th>\n      <td>4</td>\n      <td>ALO</td>\n    </tr>\n    <tr>\n      <th>2</th>\n      <td>8</td>\n      <td>RAI</td>\n    </tr>\n    <tr>\n      <th>3</th>\n      <td>20</td>\n      <td>VET</td>\n    </tr>\n    <tr>\n      <th>4</th>\n      <td>842</td>\n      <td>GAS</td>\n    </tr>\n    <tr>\n      <th>5</th>\n      <td>815</td>\n      <td>PER</td>\n    </tr>\n    <tr>\n      <th>6</th>\n      <td>817</td>\n      <td>RIC</td>\n    </tr>\n    <tr>\n      <th>7</th>\n      <td>822</td>\n      <td>BOT</td>\n    </tr>\n    <tr>\n      <th>8</th>\n      <td>830</td>\n      <td>VER</td>\n    </tr>\n    <tr>\n      <th>9</th>\n      <td>832</td>\n      <td>SAI</td>\n    </tr>\n    <tr>\n      <th>10</th>\n      <td>839</td>\n      <td>OCO</td>\n    </tr>\n    <tr>\n      <th>11</th>\n      <td>840</td>\n      <td>STR</td>\n    </tr>\n    <tr>\n      <th>12</th>\n      <td>841</td>\n      <td>GIO</td>\n    </tr>\n    <tr>\n      <th>13</th>\n      <td>844</td>\n      <td>LEC</td>\n    </tr>\n    <tr>\n      <th>14</th>\n      <td>846</td>\n      <td>NOR</td>\n    </tr>\n    <tr>\n      <th>15</th>\n      <td>847</td>\n      <td>RUS</td>\n    </tr>\n    <tr>\n      <th>16</th>\n      <td>849</td>\n      <td>LAT</td>\n    </tr>\n    <tr>\n      <th>17</th>\n      <td>852</td>\n      <td>TSU</td>\n    </tr>\n    <tr>\n      <th>18</th>\n      <td>853</td>\n      <td>MAZ</td>\n    </tr>\n    <tr>\n      <th>19</th>\n      <td>854</td>\n      <td>MSC</td>\n    </tr>\n  </tbody>\n</table>\n</div>"
     },
     "execution_count": 268,
     "metadata": {},
     "output_type": "execute_result"
    }
   ],
   "source": [
    "driver_ids_list = [1, 4, 853, 854, 822, 830, 815, 847, 849, 846, 817, 839, 840, 20, 852, 842, 841, 8, 832, 844]\n",
    "drivers_clean = drivers[drivers.driverId.isin(driver_ids_list)].drop([\"number\", \"forename\", \"surname\", \"dob\", \"nationality\", \"url\", \"driverRef\"], axis=1).reset_index(drop=True)\n",
    "\n",
    "drivers_clean"
   ],
   "metadata": {
    "collapsed": false,
    "pycharm": {
     "name": "#%%\n"
    }
   }
  },
  {
   "cell_type": "code",
   "execution_count": 269,
   "outputs": [
    {
     "data": {
      "text/plain": "      qualifyId  raceId  driverId  constructorId  number  position        q1  \\\n0             1      18         1              1      22         1  1:26.572   \n1             2      18         9              2       4         2  1:26.103   \n2             3      18         5              1      23         3  1:25.664   \n3             4      18        13              6       2         4  1:25.994   \n4             5      18         2              2       3         5  1:25.960   \n...         ...     ...       ...            ...     ...       ...       ...   \n8745       8810    1055       852            213      22        16  1:18.556   \n8746       8811    1055         8             51       7        17  1:18.917   \n8747       8812    1055       854            210      47        18  1:19.117   \n8748       8813    1055       849              3       6        19  1:19.219   \n8749       8814    1055       853            210       9        20  1:19.807   \n\n            q2        q3  \n0     1:25.187  1:26.714  \n1     1:25.315  1:26.869  \n2     1:25.452  1:27.079  \n3     1:25.691  1:27.178  \n4     1:25.518  1:27.236  \n...        ...       ...  \n8745       NaN       NaN  \n8746       NaN       NaN  \n8747       NaN       NaN  \n8748       NaN       NaN  \n8749       NaN       NaN  \n\n[8750 rows x 9 columns]",
      "text/html": "<div>\n<style scoped>\n    .dataframe tbody tr th:only-of-type {\n        vertical-align: middle;\n    }\n\n    .dataframe tbody tr th {\n        vertical-align: top;\n    }\n\n    .dataframe thead th {\n        text-align: right;\n    }\n</style>\n<table border=\"1\" class=\"dataframe\">\n  <thead>\n    <tr style=\"text-align: right;\">\n      <th></th>\n      <th>qualifyId</th>\n      <th>raceId</th>\n      <th>driverId</th>\n      <th>constructorId</th>\n      <th>number</th>\n      <th>position</th>\n      <th>q1</th>\n      <th>q2</th>\n      <th>q3</th>\n    </tr>\n  </thead>\n  <tbody>\n    <tr>\n      <th>0</th>\n      <td>1</td>\n      <td>18</td>\n      <td>1</td>\n      <td>1</td>\n      <td>22</td>\n      <td>1</td>\n      <td>1:26.572</td>\n      <td>1:25.187</td>\n      <td>1:26.714</td>\n    </tr>\n    <tr>\n      <th>1</th>\n      <td>2</td>\n      <td>18</td>\n      <td>9</td>\n      <td>2</td>\n      <td>4</td>\n      <td>2</td>\n      <td>1:26.103</td>\n      <td>1:25.315</td>\n      <td>1:26.869</td>\n    </tr>\n    <tr>\n      <th>2</th>\n      <td>3</td>\n      <td>18</td>\n      <td>5</td>\n      <td>1</td>\n      <td>23</td>\n      <td>3</td>\n      <td>1:25.664</td>\n      <td>1:25.452</td>\n      <td>1:27.079</td>\n    </tr>\n    <tr>\n      <th>3</th>\n      <td>4</td>\n      <td>18</td>\n      <td>13</td>\n      <td>6</td>\n      <td>2</td>\n      <td>4</td>\n      <td>1:25.994</td>\n      <td>1:25.691</td>\n      <td>1:27.178</td>\n    </tr>\n    <tr>\n      <th>4</th>\n      <td>5</td>\n      <td>18</td>\n      <td>2</td>\n      <td>2</td>\n      <td>3</td>\n      <td>5</td>\n      <td>1:25.960</td>\n      <td>1:25.518</td>\n      <td>1:27.236</td>\n    </tr>\n    <tr>\n      <th>...</th>\n      <td>...</td>\n      <td>...</td>\n      <td>...</td>\n      <td>...</td>\n      <td>...</td>\n      <td>...</td>\n      <td>...</td>\n      <td>...</td>\n      <td>...</td>\n    </tr>\n    <tr>\n      <th>8745</th>\n      <td>8810</td>\n      <td>1055</td>\n      <td>852</td>\n      <td>213</td>\n      <td>22</td>\n      <td>16</td>\n      <td>1:18.556</td>\n      <td>NaN</td>\n      <td>NaN</td>\n    </tr>\n    <tr>\n      <th>8746</th>\n      <td>8811</td>\n      <td>1055</td>\n      <td>8</td>\n      <td>51</td>\n      <td>7</td>\n      <td>17</td>\n      <td>1:18.917</td>\n      <td>NaN</td>\n      <td>NaN</td>\n    </tr>\n    <tr>\n      <th>8747</th>\n      <td>8812</td>\n      <td>1055</td>\n      <td>854</td>\n      <td>210</td>\n      <td>47</td>\n      <td>18</td>\n      <td>1:19.117</td>\n      <td>NaN</td>\n      <td>NaN</td>\n    </tr>\n    <tr>\n      <th>8748</th>\n      <td>8813</td>\n      <td>1055</td>\n      <td>849</td>\n      <td>3</td>\n      <td>6</td>\n      <td>19</td>\n      <td>1:19.219</td>\n      <td>NaN</td>\n      <td>NaN</td>\n    </tr>\n    <tr>\n      <th>8749</th>\n      <td>8814</td>\n      <td>1055</td>\n      <td>853</td>\n      <td>210</td>\n      <td>9</td>\n      <td>20</td>\n      <td>1:19.807</td>\n      <td>NaN</td>\n      <td>NaN</td>\n    </tr>\n  </tbody>\n</table>\n<p>8750 rows × 9 columns</p>\n</div>"
     },
     "execution_count": 269,
     "metadata": {},
     "output_type": "execute_result"
    }
   ],
   "source": [
    "qualifying"
   ],
   "metadata": {
    "collapsed": false,
    "pycharm": {
     "name": "#%%\n"
    }
   }
  },
  {
   "cell_type": "code",
   "execution_count": 270,
   "outputs": [],
   "source": [
    "qualifying = qualifying.drop([\"number\", \"qualifyId\", \"position\"], axis=1)"
   ],
   "metadata": {
    "collapsed": false,
    "pycharm": {
     "name": "#%%\n"
    }
   }
  },
  {
   "cell_type": "code",
   "execution_count": 271,
   "outputs": [
    {
     "data": {
      "text/plain": "      raceId  driverId  constructorId\n0         18         1              1\n1         18         9              2\n2         18         5              1\n3         18        13              6\n4         18         2              2\n...      ...       ...            ...\n8745    1055       852            213\n8746    1055         8             51\n8747    1055       854            210\n8748    1055       849              3\n8749    1055       853            210\n\n[8750 rows x 3 columns]",
      "text/html": "<div>\n<style scoped>\n    .dataframe tbody tr th:only-of-type {\n        vertical-align: middle;\n    }\n\n    .dataframe tbody tr th {\n        vertical-align: top;\n    }\n\n    .dataframe thead th {\n        text-align: right;\n    }\n</style>\n<table border=\"1\" class=\"dataframe\">\n  <thead>\n    <tr style=\"text-align: right;\">\n      <th></th>\n      <th>raceId</th>\n      <th>driverId</th>\n      <th>constructorId</th>\n    </tr>\n  </thead>\n  <tbody>\n    <tr>\n      <th>0</th>\n      <td>18</td>\n      <td>1</td>\n      <td>1</td>\n    </tr>\n    <tr>\n      <th>1</th>\n      <td>18</td>\n      <td>9</td>\n      <td>2</td>\n    </tr>\n    <tr>\n      <th>2</th>\n      <td>18</td>\n      <td>5</td>\n      <td>1</td>\n    </tr>\n    <tr>\n      <th>3</th>\n      <td>18</td>\n      <td>13</td>\n      <td>6</td>\n    </tr>\n    <tr>\n      <th>4</th>\n      <td>18</td>\n      <td>2</td>\n      <td>2</td>\n    </tr>\n    <tr>\n      <th>...</th>\n      <td>...</td>\n      <td>...</td>\n      <td>...</td>\n    </tr>\n    <tr>\n      <th>8745</th>\n      <td>1055</td>\n      <td>852</td>\n      <td>213</td>\n    </tr>\n    <tr>\n      <th>8746</th>\n      <td>1055</td>\n      <td>8</td>\n      <td>51</td>\n    </tr>\n    <tr>\n      <th>8747</th>\n      <td>1055</td>\n      <td>854</td>\n      <td>210</td>\n    </tr>\n    <tr>\n      <th>8748</th>\n      <td>1055</td>\n      <td>849</td>\n      <td>3</td>\n    </tr>\n    <tr>\n      <th>8749</th>\n      <td>1055</td>\n      <td>853</td>\n      <td>210</td>\n    </tr>\n  </tbody>\n</table>\n<p>8750 rows × 3 columns</p>\n</div>"
     },
     "execution_count": 271,
     "metadata": {},
     "output_type": "execute_result"
    }
   ],
   "source": [
    "test1 = qualifying[[\"raceId\", \"driverId\", \"constructorId\"]].copy()\n",
    "\n",
    "test1"
   ],
   "metadata": {
    "collapsed": false,
    "pycharm": {
     "name": "#%%\n"
    }
   }
  },
  {
   "cell_type": "code",
   "execution_count": 272,
   "outputs": [
    {
     "data": {
      "text/plain": "      raceId  driverId  constructorId        q1  q1_position\n0         18         1              1  1:26.572           10\n1         18         9              2  1:26.103            4\n2         18         5              1  1:25.664            1\n3         18        13              6  1:25.994            3\n4         18         2              2  1:25.960            2\n...      ...       ...            ...       ...          ...\n8745    1055       852            213  1:18.556           16\n8746    1055         8             51  1:18.917           17\n8747    1055       854            210  1:19.117           18\n8748    1055       849              3  1:19.219           19\n8749    1055       853            210  1:19.807           20\n\n[8638 rows x 5 columns]",
      "text/html": "<div>\n<style scoped>\n    .dataframe tbody tr th:only-of-type {\n        vertical-align: middle;\n    }\n\n    .dataframe tbody tr th {\n        vertical-align: top;\n    }\n\n    .dataframe thead th {\n        text-align: right;\n    }\n</style>\n<table border=\"1\" class=\"dataframe\">\n  <thead>\n    <tr style=\"text-align: right;\">\n      <th></th>\n      <th>raceId</th>\n      <th>driverId</th>\n      <th>constructorId</th>\n      <th>q1</th>\n      <th>q1_position</th>\n    </tr>\n  </thead>\n  <tbody>\n    <tr>\n      <th>0</th>\n      <td>18</td>\n      <td>1</td>\n      <td>1</td>\n      <td>1:26.572</td>\n      <td>10</td>\n    </tr>\n    <tr>\n      <th>1</th>\n      <td>18</td>\n      <td>9</td>\n      <td>2</td>\n      <td>1:26.103</td>\n      <td>4</td>\n    </tr>\n    <tr>\n      <th>2</th>\n      <td>18</td>\n      <td>5</td>\n      <td>1</td>\n      <td>1:25.664</td>\n      <td>1</td>\n    </tr>\n    <tr>\n      <th>3</th>\n      <td>18</td>\n      <td>13</td>\n      <td>6</td>\n      <td>1:25.994</td>\n      <td>3</td>\n    </tr>\n    <tr>\n      <th>4</th>\n      <td>18</td>\n      <td>2</td>\n      <td>2</td>\n      <td>1:25.960</td>\n      <td>2</td>\n    </tr>\n    <tr>\n      <th>...</th>\n      <td>...</td>\n      <td>...</td>\n      <td>...</td>\n      <td>...</td>\n      <td>...</td>\n    </tr>\n    <tr>\n      <th>8745</th>\n      <td>1055</td>\n      <td>852</td>\n      <td>213</td>\n      <td>1:18.556</td>\n      <td>16</td>\n    </tr>\n    <tr>\n      <th>8746</th>\n      <td>1055</td>\n      <td>8</td>\n      <td>51</td>\n      <td>1:18.917</td>\n      <td>17</td>\n    </tr>\n    <tr>\n      <th>8747</th>\n      <td>1055</td>\n      <td>854</td>\n      <td>210</td>\n      <td>1:19.117</td>\n      <td>18</td>\n    </tr>\n    <tr>\n      <th>8748</th>\n      <td>1055</td>\n      <td>849</td>\n      <td>3</td>\n      <td>1:19.219</td>\n      <td>19</td>\n    </tr>\n    <tr>\n      <th>8749</th>\n      <td>1055</td>\n      <td>853</td>\n      <td>210</td>\n      <td>1:19.807</td>\n      <td>20</td>\n    </tr>\n  </tbody>\n</table>\n<p>8638 rows × 5 columns</p>\n</div>"
     },
     "execution_count": 272,
     "metadata": {},
     "output_type": "execute_result"
    }
   ],
   "source": [
    "q1_df = qualifying.drop([\"q2\", \"q3\"], axis=1)\n",
    "q1_df = q1_df.dropna()\n",
    "q1_df[\"q1_position\"] = q1_df.sort_values([\"q1\"]).groupby(\"raceId\").cumcount() + 1\n",
    "\n",
    "q1_df"
   ],
   "metadata": {
    "collapsed": false,
    "pycharm": {
     "name": "#%%\n"
    }
   }
  },
  {
   "cell_type": "code",
   "execution_count": 273,
   "outputs": [
    {
     "data": {
      "text/plain": "      raceId  driverId  constructorId        q2  q2_position\n0         18         1              1  1:25.187            1\n1         18         9              2  1:25.315            2\n2         18         5              1  1:25.452            3\n3         18        13              6  1:25.691            5\n4         18         2              2  1:25.518            4\n...      ...       ...            ...       ...          ...\n8740    1055       840            117  1:17.974           11\n8741    1055       842            213  1:17.982           12\n8742    1055        20            117  1:18.079           13\n8743    1055       841             51  1:18.356           14\n8744    1055       847              3  1:19.154           15\n\n[4573 rows x 5 columns]",
      "text/html": "<div>\n<style scoped>\n    .dataframe tbody tr th:only-of-type {\n        vertical-align: middle;\n    }\n\n    .dataframe tbody tr th {\n        vertical-align: top;\n    }\n\n    .dataframe thead th {\n        text-align: right;\n    }\n</style>\n<table border=\"1\" class=\"dataframe\">\n  <thead>\n    <tr style=\"text-align: right;\">\n      <th></th>\n      <th>raceId</th>\n      <th>driverId</th>\n      <th>constructorId</th>\n      <th>q2</th>\n      <th>q2_position</th>\n    </tr>\n  </thead>\n  <tbody>\n    <tr>\n      <th>0</th>\n      <td>18</td>\n      <td>1</td>\n      <td>1</td>\n      <td>1:25.187</td>\n      <td>1</td>\n    </tr>\n    <tr>\n      <th>1</th>\n      <td>18</td>\n      <td>9</td>\n      <td>2</td>\n      <td>1:25.315</td>\n      <td>2</td>\n    </tr>\n    <tr>\n      <th>2</th>\n      <td>18</td>\n      <td>5</td>\n      <td>1</td>\n      <td>1:25.452</td>\n      <td>3</td>\n    </tr>\n    <tr>\n      <th>3</th>\n      <td>18</td>\n      <td>13</td>\n      <td>6</td>\n      <td>1:25.691</td>\n      <td>5</td>\n    </tr>\n    <tr>\n      <th>4</th>\n      <td>18</td>\n      <td>2</td>\n      <td>2</td>\n      <td>1:25.518</td>\n      <td>4</td>\n    </tr>\n    <tr>\n      <th>...</th>\n      <td>...</td>\n      <td>...</td>\n      <td>...</td>\n      <td>...</td>\n      <td>...</td>\n    </tr>\n    <tr>\n      <th>8740</th>\n      <td>1055</td>\n      <td>840</td>\n      <td>117</td>\n      <td>1:17.974</td>\n      <td>11</td>\n    </tr>\n    <tr>\n      <th>8741</th>\n      <td>1055</td>\n      <td>842</td>\n      <td>213</td>\n      <td>1:17.982</td>\n      <td>12</td>\n    </tr>\n    <tr>\n      <th>8742</th>\n      <td>1055</td>\n      <td>20</td>\n      <td>117</td>\n      <td>1:18.079</td>\n      <td>13</td>\n    </tr>\n    <tr>\n      <th>8743</th>\n      <td>1055</td>\n      <td>841</td>\n      <td>51</td>\n      <td>1:18.356</td>\n      <td>14</td>\n    </tr>\n    <tr>\n      <th>8744</th>\n      <td>1055</td>\n      <td>847</td>\n      <td>3</td>\n      <td>1:19.154</td>\n      <td>15</td>\n    </tr>\n  </tbody>\n</table>\n<p>4573 rows × 5 columns</p>\n</div>"
     },
     "execution_count": 273,
     "metadata": {},
     "output_type": "execute_result"
    }
   ],
   "source": [
    "q2_df = qualifying.drop([\"q1\", \"q3\"], axis=1)\n",
    "q2_df = q2_df.dropna()\n",
    "q2_df[\"q2_position\"] = q2_df.sort_values([\"q2\"]).groupby(\"raceId\").cumcount() + 1\n",
    "\n",
    "\n",
    "q2_df"
   ],
   "metadata": {
    "collapsed": false,
    "pycharm": {
     "name": "#%%\n"
    }
   }
  },
  {
   "cell_type": "code",
   "execution_count": 274,
   "outputs": [
    {
     "data": {
      "text/plain": "      raceId  driverId  constructorId        q3  q3_position\n0         18         1              1  1:26.714            1\n1         18         9              2  1:26.869            2\n2         18         5              1  1:27.079            3\n3         18        13              6  1:27.178            4\n4         18         2              2  1:27.236            5\n...      ...       ...            ...       ...          ...\n8735    1055       832              6  1:17.620            6\n8736    1055       817              1  1:17.622            7\n8737    1055       815              9  1:17.701            8\n8738    1055       846              1  1:18.010            9\n8739    1055         4            214  1:18.147           10\n\n[2790 rows x 5 columns]",
      "text/html": "<div>\n<style scoped>\n    .dataframe tbody tr th:only-of-type {\n        vertical-align: middle;\n    }\n\n    .dataframe tbody tr th {\n        vertical-align: top;\n    }\n\n    .dataframe thead th {\n        text-align: right;\n    }\n</style>\n<table border=\"1\" class=\"dataframe\">\n  <thead>\n    <tr style=\"text-align: right;\">\n      <th></th>\n      <th>raceId</th>\n      <th>driverId</th>\n      <th>constructorId</th>\n      <th>q3</th>\n      <th>q3_position</th>\n    </tr>\n  </thead>\n  <tbody>\n    <tr>\n      <th>0</th>\n      <td>18</td>\n      <td>1</td>\n      <td>1</td>\n      <td>1:26.714</td>\n      <td>1</td>\n    </tr>\n    <tr>\n      <th>1</th>\n      <td>18</td>\n      <td>9</td>\n      <td>2</td>\n      <td>1:26.869</td>\n      <td>2</td>\n    </tr>\n    <tr>\n      <th>2</th>\n      <td>18</td>\n      <td>5</td>\n      <td>1</td>\n      <td>1:27.079</td>\n      <td>3</td>\n    </tr>\n    <tr>\n      <th>3</th>\n      <td>18</td>\n      <td>13</td>\n      <td>6</td>\n      <td>1:27.178</td>\n      <td>4</td>\n    </tr>\n    <tr>\n      <th>4</th>\n      <td>18</td>\n      <td>2</td>\n      <td>2</td>\n      <td>1:27.236</td>\n      <td>5</td>\n    </tr>\n    <tr>\n      <th>...</th>\n      <td>...</td>\n      <td>...</td>\n      <td>...</td>\n      <td>...</td>\n      <td>...</td>\n    </tr>\n    <tr>\n      <th>8735</th>\n      <td>1055</td>\n      <td>832</td>\n      <td>6</td>\n      <td>1:17.620</td>\n      <td>6</td>\n    </tr>\n    <tr>\n      <th>8736</th>\n      <td>1055</td>\n      <td>817</td>\n      <td>1</td>\n      <td>1:17.622</td>\n      <td>7</td>\n    </tr>\n    <tr>\n      <th>8737</th>\n      <td>1055</td>\n      <td>815</td>\n      <td>9</td>\n      <td>1:17.701</td>\n      <td>8</td>\n    </tr>\n    <tr>\n      <th>8738</th>\n      <td>1055</td>\n      <td>846</td>\n      <td>1</td>\n      <td>1:18.010</td>\n      <td>9</td>\n    </tr>\n    <tr>\n      <th>8739</th>\n      <td>1055</td>\n      <td>4</td>\n      <td>214</td>\n      <td>1:18.147</td>\n      <td>10</td>\n    </tr>\n  </tbody>\n</table>\n<p>2790 rows × 5 columns</p>\n</div>"
     },
     "execution_count": 274,
     "metadata": {},
     "output_type": "execute_result"
    }
   ],
   "source": [
    "q3_df = qualifying.drop([\"q1\", \"q2\"], axis=1)\n",
    "q3_df = q3_df.dropna()\n",
    "q3_df[\"q3_position\"] = q3_df.sort_values([\"q3\"]).groupby(\"raceId\").cumcount() + 1\n",
    "\n",
    "\n",
    "q3_df"
   ],
   "metadata": {
    "collapsed": false,
    "pycharm": {
     "name": "#%%\n"
    }
   }
  },
  {
   "cell_type": "code",
   "execution_count": 275,
   "outputs": [
    {
     "data": {
      "text/plain": "      raceId  driverId  constructorId        q1  q1_position\n0         18         1              1  1:26.572         10.0\n1         18         9              2  1:26.103          4.0\n2         18         5              1  1:25.664          1.0\n3         18        13              6  1:25.994          3.0\n4         18         2              2  1:25.960          2.0\n...      ...       ...            ...       ...          ...\n8745    1055       852            213  1:18.556         16.0\n8746    1055         8             51  1:18.917         17.0\n8747    1055       854            210  1:19.117         18.0\n8748    1055       849              3  1:19.219         19.0\n8749    1055       853            210  1:19.807         20.0\n\n[8750 rows x 5 columns]",
      "text/html": "<div>\n<style scoped>\n    .dataframe tbody tr th:only-of-type {\n        vertical-align: middle;\n    }\n\n    .dataframe tbody tr th {\n        vertical-align: top;\n    }\n\n    .dataframe thead th {\n        text-align: right;\n    }\n</style>\n<table border=\"1\" class=\"dataframe\">\n  <thead>\n    <tr style=\"text-align: right;\">\n      <th></th>\n      <th>raceId</th>\n      <th>driverId</th>\n      <th>constructorId</th>\n      <th>q1</th>\n      <th>q1_position</th>\n    </tr>\n  </thead>\n  <tbody>\n    <tr>\n      <th>0</th>\n      <td>18</td>\n      <td>1</td>\n      <td>1</td>\n      <td>1:26.572</td>\n      <td>10.0</td>\n    </tr>\n    <tr>\n      <th>1</th>\n      <td>18</td>\n      <td>9</td>\n      <td>2</td>\n      <td>1:26.103</td>\n      <td>4.0</td>\n    </tr>\n    <tr>\n      <th>2</th>\n      <td>18</td>\n      <td>5</td>\n      <td>1</td>\n      <td>1:25.664</td>\n      <td>1.0</td>\n    </tr>\n    <tr>\n      <th>3</th>\n      <td>18</td>\n      <td>13</td>\n      <td>6</td>\n      <td>1:25.994</td>\n      <td>3.0</td>\n    </tr>\n    <tr>\n      <th>4</th>\n      <td>18</td>\n      <td>2</td>\n      <td>2</td>\n      <td>1:25.960</td>\n      <td>2.0</td>\n    </tr>\n    <tr>\n      <th>...</th>\n      <td>...</td>\n      <td>...</td>\n      <td>...</td>\n      <td>...</td>\n      <td>...</td>\n    </tr>\n    <tr>\n      <th>8745</th>\n      <td>1055</td>\n      <td>852</td>\n      <td>213</td>\n      <td>1:18.556</td>\n      <td>16.0</td>\n    </tr>\n    <tr>\n      <th>8746</th>\n      <td>1055</td>\n      <td>8</td>\n      <td>51</td>\n      <td>1:18.917</td>\n      <td>17.0</td>\n    </tr>\n    <tr>\n      <th>8747</th>\n      <td>1055</td>\n      <td>854</td>\n      <td>210</td>\n      <td>1:19.117</td>\n      <td>18.0</td>\n    </tr>\n    <tr>\n      <th>8748</th>\n      <td>1055</td>\n      <td>849</td>\n      <td>3</td>\n      <td>1:19.219</td>\n      <td>19.0</td>\n    </tr>\n    <tr>\n      <th>8749</th>\n      <td>1055</td>\n      <td>853</td>\n      <td>210</td>\n      <td>1:19.807</td>\n      <td>20.0</td>\n    </tr>\n  </tbody>\n</table>\n<p>8750 rows × 5 columns</p>\n</div>"
     },
     "execution_count": 275,
     "metadata": {},
     "output_type": "execute_result"
    }
   ],
   "source": [
    "test1 = test1.merge(\n",
    "    q1_df,\n",
    "    on=[\"raceId\", \"driverId\", \"constructorId\"],\n",
    "    how=\"left\"\n",
    ")\n",
    "\n",
    "test1"
   ],
   "metadata": {
    "collapsed": false,
    "pycharm": {
     "name": "#%%\n"
    }
   }
  },
  {
   "cell_type": "code",
   "execution_count": 239,
   "outputs": [
    {
     "data": {
      "text/plain": "raceId             0\ndriverId           0\nconstructorId      0\nq1               136\nq1_position      136\ndtype: int64"
     },
     "execution_count": 239,
     "metadata": {},
     "output_type": "execute_result"
    }
   ],
   "source": [
    "test1.isna().sum()"
   ],
   "metadata": {
    "collapsed": false,
    "pycharm": {
     "name": "#%%\n"
    }
   }
  },
  {
   "cell_type": "code",
   "execution_count": 276,
   "outputs": [
    {
     "data": {
      "text/plain": "      raceId  driverId  constructorId        q1  q1_position        q2  \\\n0         18         1              1  1:26.572         10.0  1:25.187   \n1         18         9              2  1:26.103          4.0  1:25.315   \n2         18         5              1  1:25.664          1.0  1:25.452   \n3         18        13              6  1:25.994          3.0  1:25.691   \n4         18         2              2  1:25.960          2.0  1:25.518   \n...      ...       ...            ...       ...          ...       ...   \n8745    1055       852            213  1:18.556         16.0       NaN   \n8746    1055         8             51  1:18.917         17.0       NaN   \n8747    1055       854            210  1:19.117         18.0       NaN   \n8748    1055       849              3  1:19.219         19.0       NaN   \n8749    1055       853            210  1:19.807         20.0       NaN   \n\n      q2_position  \n0             1.0  \n1             2.0  \n2             3.0  \n3             5.0  \n4             4.0  \n...           ...  \n8745          NaN  \n8746          NaN  \n8747          NaN  \n8748          NaN  \n8749          NaN  \n\n[8750 rows x 7 columns]",
      "text/html": "<div>\n<style scoped>\n    .dataframe tbody tr th:only-of-type {\n        vertical-align: middle;\n    }\n\n    .dataframe tbody tr th {\n        vertical-align: top;\n    }\n\n    .dataframe thead th {\n        text-align: right;\n    }\n</style>\n<table border=\"1\" class=\"dataframe\">\n  <thead>\n    <tr style=\"text-align: right;\">\n      <th></th>\n      <th>raceId</th>\n      <th>driverId</th>\n      <th>constructorId</th>\n      <th>q1</th>\n      <th>q1_position</th>\n      <th>q2</th>\n      <th>q2_position</th>\n    </tr>\n  </thead>\n  <tbody>\n    <tr>\n      <th>0</th>\n      <td>18</td>\n      <td>1</td>\n      <td>1</td>\n      <td>1:26.572</td>\n      <td>10.0</td>\n      <td>1:25.187</td>\n      <td>1.0</td>\n    </tr>\n    <tr>\n      <th>1</th>\n      <td>18</td>\n      <td>9</td>\n      <td>2</td>\n      <td>1:26.103</td>\n      <td>4.0</td>\n      <td>1:25.315</td>\n      <td>2.0</td>\n    </tr>\n    <tr>\n      <th>2</th>\n      <td>18</td>\n      <td>5</td>\n      <td>1</td>\n      <td>1:25.664</td>\n      <td>1.0</td>\n      <td>1:25.452</td>\n      <td>3.0</td>\n    </tr>\n    <tr>\n      <th>3</th>\n      <td>18</td>\n      <td>13</td>\n      <td>6</td>\n      <td>1:25.994</td>\n      <td>3.0</td>\n      <td>1:25.691</td>\n      <td>5.0</td>\n    </tr>\n    <tr>\n      <th>4</th>\n      <td>18</td>\n      <td>2</td>\n      <td>2</td>\n      <td>1:25.960</td>\n      <td>2.0</td>\n      <td>1:25.518</td>\n      <td>4.0</td>\n    </tr>\n    <tr>\n      <th>...</th>\n      <td>...</td>\n      <td>...</td>\n      <td>...</td>\n      <td>...</td>\n      <td>...</td>\n      <td>...</td>\n      <td>...</td>\n    </tr>\n    <tr>\n      <th>8745</th>\n      <td>1055</td>\n      <td>852</td>\n      <td>213</td>\n      <td>1:18.556</td>\n      <td>16.0</td>\n      <td>NaN</td>\n      <td>NaN</td>\n    </tr>\n    <tr>\n      <th>8746</th>\n      <td>1055</td>\n      <td>8</td>\n      <td>51</td>\n      <td>1:18.917</td>\n      <td>17.0</td>\n      <td>NaN</td>\n      <td>NaN</td>\n    </tr>\n    <tr>\n      <th>8747</th>\n      <td>1055</td>\n      <td>854</td>\n      <td>210</td>\n      <td>1:19.117</td>\n      <td>18.0</td>\n      <td>NaN</td>\n      <td>NaN</td>\n    </tr>\n    <tr>\n      <th>8748</th>\n      <td>1055</td>\n      <td>849</td>\n      <td>3</td>\n      <td>1:19.219</td>\n      <td>19.0</td>\n      <td>NaN</td>\n      <td>NaN</td>\n    </tr>\n    <tr>\n      <th>8749</th>\n      <td>1055</td>\n      <td>853</td>\n      <td>210</td>\n      <td>1:19.807</td>\n      <td>20.0</td>\n      <td>NaN</td>\n      <td>NaN</td>\n    </tr>\n  </tbody>\n</table>\n<p>8750 rows × 7 columns</p>\n</div>"
     },
     "execution_count": 276,
     "metadata": {},
     "output_type": "execute_result"
    }
   ],
   "source": [
    "test1 = test1.merge(\n",
    "    q2_df,\n",
    "    on=[\"raceId\", \"driverId\", \"constructorId\"],\n",
    "    how=\"left\"\n",
    ")\n",
    "\n",
    "test1"
   ],
   "metadata": {
    "collapsed": false,
    "pycharm": {
     "name": "#%%\n"
    }
   }
  },
  {
   "cell_type": "code",
   "execution_count": 277,
   "outputs": [
    {
     "data": {
      "text/plain": "      raceId  driverId  constructorId        q1  q1_position        q2  \\\n0         18         1              1  1:26.572         10.0  1:25.187   \n1         18         9              2  1:26.103          4.0  1:25.315   \n2         18         5              1  1:25.664          1.0  1:25.452   \n3         18        13              6  1:25.994          3.0  1:25.691   \n4         18         2              2  1:25.960          2.0  1:25.518   \n...      ...       ...            ...       ...          ...       ...   \n8745    1055       852            213  1:18.556         16.0       NaN   \n8746    1055         8             51  1:18.917         17.0       NaN   \n8747    1055       854            210  1:19.117         18.0       NaN   \n8748    1055       849              3  1:19.219         19.0       NaN   \n8749    1055       853            210  1:19.807         20.0       NaN   \n\n      q2_position        q3  q3_position  \n0             1.0  1:26.714          1.0  \n1             2.0  1:26.869          2.0  \n2             3.0  1:27.079          3.0  \n3             5.0  1:27.178          4.0  \n4             4.0  1:27.236          5.0  \n...           ...       ...          ...  \n8745          NaN       NaN          NaN  \n8746          NaN       NaN          NaN  \n8747          NaN       NaN          NaN  \n8748          NaN       NaN          NaN  \n8749          NaN       NaN          NaN  \n\n[8750 rows x 9 columns]",
      "text/html": "<div>\n<style scoped>\n    .dataframe tbody tr th:only-of-type {\n        vertical-align: middle;\n    }\n\n    .dataframe tbody tr th {\n        vertical-align: top;\n    }\n\n    .dataframe thead th {\n        text-align: right;\n    }\n</style>\n<table border=\"1\" class=\"dataframe\">\n  <thead>\n    <tr style=\"text-align: right;\">\n      <th></th>\n      <th>raceId</th>\n      <th>driverId</th>\n      <th>constructorId</th>\n      <th>q1</th>\n      <th>q1_position</th>\n      <th>q2</th>\n      <th>q2_position</th>\n      <th>q3</th>\n      <th>q3_position</th>\n    </tr>\n  </thead>\n  <tbody>\n    <tr>\n      <th>0</th>\n      <td>18</td>\n      <td>1</td>\n      <td>1</td>\n      <td>1:26.572</td>\n      <td>10.0</td>\n      <td>1:25.187</td>\n      <td>1.0</td>\n      <td>1:26.714</td>\n      <td>1.0</td>\n    </tr>\n    <tr>\n      <th>1</th>\n      <td>18</td>\n      <td>9</td>\n      <td>2</td>\n      <td>1:26.103</td>\n      <td>4.0</td>\n      <td>1:25.315</td>\n      <td>2.0</td>\n      <td>1:26.869</td>\n      <td>2.0</td>\n    </tr>\n    <tr>\n      <th>2</th>\n      <td>18</td>\n      <td>5</td>\n      <td>1</td>\n      <td>1:25.664</td>\n      <td>1.0</td>\n      <td>1:25.452</td>\n      <td>3.0</td>\n      <td>1:27.079</td>\n      <td>3.0</td>\n    </tr>\n    <tr>\n      <th>3</th>\n      <td>18</td>\n      <td>13</td>\n      <td>6</td>\n      <td>1:25.994</td>\n      <td>3.0</td>\n      <td>1:25.691</td>\n      <td>5.0</td>\n      <td>1:27.178</td>\n      <td>4.0</td>\n    </tr>\n    <tr>\n      <th>4</th>\n      <td>18</td>\n      <td>2</td>\n      <td>2</td>\n      <td>1:25.960</td>\n      <td>2.0</td>\n      <td>1:25.518</td>\n      <td>4.0</td>\n      <td>1:27.236</td>\n      <td>5.0</td>\n    </tr>\n    <tr>\n      <th>...</th>\n      <td>...</td>\n      <td>...</td>\n      <td>...</td>\n      <td>...</td>\n      <td>...</td>\n      <td>...</td>\n      <td>...</td>\n      <td>...</td>\n      <td>...</td>\n    </tr>\n    <tr>\n      <th>8745</th>\n      <td>1055</td>\n      <td>852</td>\n      <td>213</td>\n      <td>1:18.556</td>\n      <td>16.0</td>\n      <td>NaN</td>\n      <td>NaN</td>\n      <td>NaN</td>\n      <td>NaN</td>\n    </tr>\n    <tr>\n      <th>8746</th>\n      <td>1055</td>\n      <td>8</td>\n      <td>51</td>\n      <td>1:18.917</td>\n      <td>17.0</td>\n      <td>NaN</td>\n      <td>NaN</td>\n      <td>NaN</td>\n      <td>NaN</td>\n    </tr>\n    <tr>\n      <th>8747</th>\n      <td>1055</td>\n      <td>854</td>\n      <td>210</td>\n      <td>1:19.117</td>\n      <td>18.0</td>\n      <td>NaN</td>\n      <td>NaN</td>\n      <td>NaN</td>\n      <td>NaN</td>\n    </tr>\n    <tr>\n      <th>8748</th>\n      <td>1055</td>\n      <td>849</td>\n      <td>3</td>\n      <td>1:19.219</td>\n      <td>19.0</td>\n      <td>NaN</td>\n      <td>NaN</td>\n      <td>NaN</td>\n      <td>NaN</td>\n    </tr>\n    <tr>\n      <th>8749</th>\n      <td>1055</td>\n      <td>853</td>\n      <td>210</td>\n      <td>1:19.807</td>\n      <td>20.0</td>\n      <td>NaN</td>\n      <td>NaN</td>\n      <td>NaN</td>\n      <td>NaN</td>\n    </tr>\n  </tbody>\n</table>\n<p>8750 rows × 9 columns</p>\n</div>"
     },
     "execution_count": 277,
     "metadata": {},
     "output_type": "execute_result"
    }
   ],
   "source": [
    "test1 = test1.merge(\n",
    "    q3_df,\n",
    "    on=[\"raceId\", \"driverId\", \"constructorId\"],\n",
    "    how=\"left\"\n",
    ")\n",
    "\n",
    "test1"
   ],
   "metadata": {
    "collapsed": false,
    "pycharm": {
     "name": "#%%\n"
    }
   }
  },
  {
   "cell_type": "code",
   "execution_count": 278,
   "outputs": [
    {
     "data": {
      "text/plain": "      raceId  driverId  constructorId  q1_position  q2_position  q3_position\n0         18         1              1         10.0          1.0          1.0\n1         18         9              2          4.0          2.0          2.0\n2         18         5              1          1.0          3.0          3.0\n3         18        13              6          3.0          5.0          4.0\n4         18         2              2          2.0          4.0          5.0\n...      ...       ...            ...          ...          ...          ...\n8745    1055       852            213         16.0          NaN          NaN\n8746    1055         8             51         17.0          NaN          NaN\n8747    1055       854            210         18.0          NaN          NaN\n8748    1055       849              3         19.0          NaN          NaN\n8749    1055       853            210         20.0          NaN          NaN\n\n[8750 rows x 6 columns]",
      "text/html": "<div>\n<style scoped>\n    .dataframe tbody tr th:only-of-type {\n        vertical-align: middle;\n    }\n\n    .dataframe tbody tr th {\n        vertical-align: top;\n    }\n\n    .dataframe thead th {\n        text-align: right;\n    }\n</style>\n<table border=\"1\" class=\"dataframe\">\n  <thead>\n    <tr style=\"text-align: right;\">\n      <th></th>\n      <th>raceId</th>\n      <th>driverId</th>\n      <th>constructorId</th>\n      <th>q1_position</th>\n      <th>q2_position</th>\n      <th>q3_position</th>\n    </tr>\n  </thead>\n  <tbody>\n    <tr>\n      <th>0</th>\n      <td>18</td>\n      <td>1</td>\n      <td>1</td>\n      <td>10.0</td>\n      <td>1.0</td>\n      <td>1.0</td>\n    </tr>\n    <tr>\n      <th>1</th>\n      <td>18</td>\n      <td>9</td>\n      <td>2</td>\n      <td>4.0</td>\n      <td>2.0</td>\n      <td>2.0</td>\n    </tr>\n    <tr>\n      <th>2</th>\n      <td>18</td>\n      <td>5</td>\n      <td>1</td>\n      <td>1.0</td>\n      <td>3.0</td>\n      <td>3.0</td>\n    </tr>\n    <tr>\n      <th>3</th>\n      <td>18</td>\n      <td>13</td>\n      <td>6</td>\n      <td>3.0</td>\n      <td>5.0</td>\n      <td>4.0</td>\n    </tr>\n    <tr>\n      <th>4</th>\n      <td>18</td>\n      <td>2</td>\n      <td>2</td>\n      <td>2.0</td>\n      <td>4.0</td>\n      <td>5.0</td>\n    </tr>\n    <tr>\n      <th>...</th>\n      <td>...</td>\n      <td>...</td>\n      <td>...</td>\n      <td>...</td>\n      <td>...</td>\n      <td>...</td>\n    </tr>\n    <tr>\n      <th>8745</th>\n      <td>1055</td>\n      <td>852</td>\n      <td>213</td>\n      <td>16.0</td>\n      <td>NaN</td>\n      <td>NaN</td>\n    </tr>\n    <tr>\n      <th>8746</th>\n      <td>1055</td>\n      <td>8</td>\n      <td>51</td>\n      <td>17.0</td>\n      <td>NaN</td>\n      <td>NaN</td>\n    </tr>\n    <tr>\n      <th>8747</th>\n      <td>1055</td>\n      <td>854</td>\n      <td>210</td>\n      <td>18.0</td>\n      <td>NaN</td>\n      <td>NaN</td>\n    </tr>\n    <tr>\n      <th>8748</th>\n      <td>1055</td>\n      <td>849</td>\n      <td>3</td>\n      <td>19.0</td>\n      <td>NaN</td>\n      <td>NaN</td>\n    </tr>\n    <tr>\n      <th>8749</th>\n      <td>1055</td>\n      <td>853</td>\n      <td>210</td>\n      <td>20.0</td>\n      <td>NaN</td>\n      <td>NaN</td>\n    </tr>\n  </tbody>\n</table>\n<p>8750 rows × 6 columns</p>\n</div>"
     },
     "execution_count": 278,
     "metadata": {},
     "output_type": "execute_result"
    }
   ],
   "source": [
    "cleaned_positions = test1.drop([\"q1\", \"q2\", \"q3\"], axis=1)\n",
    "\n",
    "cleaned_positions"
   ],
   "metadata": {
    "collapsed": false,
    "pycharm": {
     "name": "#%%\n"
    }
   }
  },
  {
   "cell_type": "code",
   "execution_count": 279,
   "outputs": [],
   "source": [
    "test_x = cleaned_positions.groupby([\"raceId\"]).transform(lambda x: x.fillna(x.max() + 1))\n",
    "test_x[\"raceId\"] = cleaned_positions[\"raceId\"]"
   ],
   "metadata": {
    "collapsed": false,
    "pycharm": {
     "name": "#%%\n"
    }
   }
  },
  {
   "cell_type": "code",
   "execution_count": 262,
   "outputs": [],
   "source": [
    "test_x.to_csv(\"./test_x.csv\")"
   ],
   "metadata": {
    "collapsed": false,
    "pycharm": {
     "name": "#%%\n"
    }
   }
  },
  {
   "cell_type": "code",
   "execution_count": 288,
   "outputs": [
    {
     "data": {
      "text/plain": "driverId            0\nconstructorId       0\nq1_position         0\nq2_position      2462\nq3_position      2598\nraceId              0\ndtype: int64"
     },
     "execution_count": 288,
     "metadata": {},
     "output_type": "execute_result"
    }
   ],
   "source": [
    "test_x.isna().sum()"
   ],
   "metadata": {
    "collapsed": false,
    "pycharm": {
     "name": "#%%\n"
    }
   }
  },
  {
   "cell_type": "code",
   "execution_count": null,
   "outputs": [],
   "source": [
    "test_x.loc[pd.isna(test_x[\"q1_position\"]), :].index"
   ],
   "metadata": {
    "collapsed": false,
    "pycharm": {
     "name": "#%%\n"
    }
   }
  },
  {
   "cell_type": "code",
   "execution_count": 264,
   "outputs": [
    {
     "data": {
      "text/plain": "      driverId  constructorId  q1_position  q2_position  q3_position  raceId\n2568        71              3          NaN          NaN          NaN     256\n2569        14              3          NaN          NaN          NaN     256\n2570        30             22          NaN          NaN          NaN     256\n2571        77              6          NaN          NaN          NaN     256\n2572        55              6          NaN          NaN          NaN     256\n2573        49             15          NaN          NaN          NaN     256\n2574        22             17          NaN          NaN          NaN     256\n2575        65             22          NaN          NaN          NaN     256\n2576        56             17          NaN          NaN          NaN     256\n2577        87              1          NaN          NaN          NaN     256\n2578        84             27          NaN          NaN          NaN     256\n2579        44             27          NaN          NaN          NaN     256\n2580        81             29          NaN          NaN          NaN     256\n2581        63             25          NaN          NaN          NaN     256\n2582        69             18          NaN          NaN          NaN     256\n2583        79             25          NaN          NaN          NaN     256\n2584        83             18          NaN          NaN          NaN     256\n2585        91             15          NaN          NaN          NaN     256\n2586        89             29          NaN          NaN          NaN     256\n2587        90             28          NaN          NaN          NaN     256\n2588        64             28          NaN          NaN          NaN     256\n2589        85             30          NaN          NaN          NaN     256\n2590        92             30          NaN          NaN          NaN     256",
      "text/html": "<div>\n<style scoped>\n    .dataframe tbody tr th:only-of-type {\n        vertical-align: middle;\n    }\n\n    .dataframe tbody tr th {\n        vertical-align: top;\n    }\n\n    .dataframe thead th {\n        text-align: right;\n    }\n</style>\n<table border=\"1\" class=\"dataframe\">\n  <thead>\n    <tr style=\"text-align: right;\">\n      <th></th>\n      <th>driverId</th>\n      <th>constructorId</th>\n      <th>q1_position</th>\n      <th>q2_position</th>\n      <th>q3_position</th>\n      <th>raceId</th>\n    </tr>\n  </thead>\n  <tbody>\n    <tr>\n      <th>2568</th>\n      <td>71</td>\n      <td>3</td>\n      <td>NaN</td>\n      <td>NaN</td>\n      <td>NaN</td>\n      <td>256</td>\n    </tr>\n    <tr>\n      <th>2569</th>\n      <td>14</td>\n      <td>3</td>\n      <td>NaN</td>\n      <td>NaN</td>\n      <td>NaN</td>\n      <td>256</td>\n    </tr>\n    <tr>\n      <th>2570</th>\n      <td>30</td>\n      <td>22</td>\n      <td>NaN</td>\n      <td>NaN</td>\n      <td>NaN</td>\n      <td>256</td>\n    </tr>\n    <tr>\n      <th>2571</th>\n      <td>77</td>\n      <td>6</td>\n      <td>NaN</td>\n      <td>NaN</td>\n      <td>NaN</td>\n      <td>256</td>\n    </tr>\n    <tr>\n      <th>2572</th>\n      <td>55</td>\n      <td>6</td>\n      <td>NaN</td>\n      <td>NaN</td>\n      <td>NaN</td>\n      <td>256</td>\n    </tr>\n    <tr>\n      <th>2573</th>\n      <td>49</td>\n      <td>15</td>\n      <td>NaN</td>\n      <td>NaN</td>\n      <td>NaN</td>\n      <td>256</td>\n    </tr>\n    <tr>\n      <th>2574</th>\n      <td>22</td>\n      <td>17</td>\n      <td>NaN</td>\n      <td>NaN</td>\n      <td>NaN</td>\n      <td>256</td>\n    </tr>\n    <tr>\n      <th>2575</th>\n      <td>65</td>\n      <td>22</td>\n      <td>NaN</td>\n      <td>NaN</td>\n      <td>NaN</td>\n      <td>256</td>\n    </tr>\n    <tr>\n      <th>2576</th>\n      <td>56</td>\n      <td>17</td>\n      <td>NaN</td>\n      <td>NaN</td>\n      <td>NaN</td>\n      <td>256</td>\n    </tr>\n    <tr>\n      <th>2577</th>\n      <td>87</td>\n      <td>1</td>\n      <td>NaN</td>\n      <td>NaN</td>\n      <td>NaN</td>\n      <td>256</td>\n    </tr>\n    <tr>\n      <th>2578</th>\n      <td>84</td>\n      <td>27</td>\n      <td>NaN</td>\n      <td>NaN</td>\n      <td>NaN</td>\n      <td>256</td>\n    </tr>\n    <tr>\n      <th>2579</th>\n      <td>44</td>\n      <td>27</td>\n      <td>NaN</td>\n      <td>NaN</td>\n      <td>NaN</td>\n      <td>256</td>\n    </tr>\n    <tr>\n      <th>2580</th>\n      <td>81</td>\n      <td>29</td>\n      <td>NaN</td>\n      <td>NaN</td>\n      <td>NaN</td>\n      <td>256</td>\n    </tr>\n    <tr>\n      <th>2581</th>\n      <td>63</td>\n      <td>25</td>\n      <td>NaN</td>\n      <td>NaN</td>\n      <td>NaN</td>\n      <td>256</td>\n    </tr>\n    <tr>\n      <th>2582</th>\n      <td>69</td>\n      <td>18</td>\n      <td>NaN</td>\n      <td>NaN</td>\n      <td>NaN</td>\n      <td>256</td>\n    </tr>\n    <tr>\n      <th>2583</th>\n      <td>79</td>\n      <td>25</td>\n      <td>NaN</td>\n      <td>NaN</td>\n      <td>NaN</td>\n      <td>256</td>\n    </tr>\n    <tr>\n      <th>2584</th>\n      <td>83</td>\n      <td>18</td>\n      <td>NaN</td>\n      <td>NaN</td>\n      <td>NaN</td>\n      <td>256</td>\n    </tr>\n    <tr>\n      <th>2585</th>\n      <td>91</td>\n      <td>15</td>\n      <td>NaN</td>\n      <td>NaN</td>\n      <td>NaN</td>\n      <td>256</td>\n    </tr>\n    <tr>\n      <th>2586</th>\n      <td>89</td>\n      <td>29</td>\n      <td>NaN</td>\n      <td>NaN</td>\n      <td>NaN</td>\n      <td>256</td>\n    </tr>\n    <tr>\n      <th>2587</th>\n      <td>90</td>\n      <td>28</td>\n      <td>NaN</td>\n      <td>NaN</td>\n      <td>NaN</td>\n      <td>256</td>\n    </tr>\n    <tr>\n      <th>2588</th>\n      <td>64</td>\n      <td>28</td>\n      <td>NaN</td>\n      <td>NaN</td>\n      <td>NaN</td>\n      <td>256</td>\n    </tr>\n    <tr>\n      <th>2589</th>\n      <td>85</td>\n      <td>30</td>\n      <td>NaN</td>\n      <td>NaN</td>\n      <td>NaN</td>\n      <td>256</td>\n    </tr>\n    <tr>\n      <th>2590</th>\n      <td>92</td>\n      <td>30</td>\n      <td>NaN</td>\n      <td>NaN</td>\n      <td>NaN</td>\n      <td>256</td>\n    </tr>\n  </tbody>\n</table>\n</div>"
     },
     "execution_count": 264,
     "metadata": {},
     "output_type": "execute_result"
    }
   ],
   "source": [
    "test_x[2568:2591]"
   ],
   "metadata": {
    "collapsed": false,
    "pycharm": {
     "name": "#%%\n"
    }
   }
  },
  {
   "cell_type": "code",
   "execution_count": 302,
   "outputs": [],
   "source": [
    "def copy_quali_results(df:pd.DataFrame):\n",
    "    if df[\"q2_position\"].isna().values.all():\n",
    "        df[\"q2_position\"] = df[\"q1_position\"]\n",
    "    if df[\"q3_position\"].isna().values.all():\n",
    "        df[\"q3_position\"] = df[\"q2_position\"]\n",
    "    return df\n"
   ],
   "metadata": {
    "collapsed": false,
    "pycharm": {
     "name": "#%%\n"
    }
   }
  },
  {
   "cell_type": "code",
   "execution_count": 303,
   "outputs": [],
   "source": [
    "cleaned_quali_results = test_x.groupby([\"raceId\"]).apply(copy_quali_results)\n",
    "\n",
    "# cleaned_quali_results.isna().sum()"
   ],
   "metadata": {
    "collapsed": false,
    "pycharm": {
     "name": "#%%\n"
    }
   }
  },
  {
   "cell_type": "code",
   "execution_count": 307,
   "outputs": [],
   "source": [
    "qualifying = cleaned_quali_results"
   ],
   "metadata": {
    "collapsed": false,
    "pycharm": {
     "name": "#%%\n"
    }
   }
  },
  {
   "cell_type": "code",
   "execution_count": 308,
   "outputs": [
    {
     "data": {
      "text/plain": "    driverId  constructorId  q1_position  q2_position  q3_position  raceId\n0          1              1         10.0          1.0          1.0      18\n1          9              2          4.0          2.0          2.0      18\n2          5              1          1.0          3.0          3.0      18\n3         13              6          3.0          5.0          4.0      18\n4          2              2          2.0          4.0          5.0      18\n5         15              7          9.0          9.0          6.0      18\n6          3              3          6.0          7.0          7.0      18\n7         14              9          8.0          8.0          8.0      18\n8         10              7         16.0         10.0          9.0      18\n9         20              5         11.0          6.0         10.0      18\n10        22             11          7.0         11.0         10.0      18\n11         4              4         14.0         12.0         10.0      18\n12        18             11         12.0         13.0         10.0      18\n13         6              3         13.0         14.0         10.0      18\n14        17              9         15.0         15.0         10.0      18\n15         8              6          5.0         15.0         10.0      18\n16        21             10         17.0         15.0         10.0      18\n17         7              5         18.0         15.0         10.0      18\n18        16             10         19.0         15.0         10.0      18\n19        11              8         20.0         15.0         10.0      18\n20        12              4         21.0         15.0         10.0      18\n21        19              8         22.0         15.0         10.0      18",
      "text/html": "<div>\n<style scoped>\n    .dataframe tbody tr th:only-of-type {\n        vertical-align: middle;\n    }\n\n    .dataframe tbody tr th {\n        vertical-align: top;\n    }\n\n    .dataframe thead th {\n        text-align: right;\n    }\n</style>\n<table border=\"1\" class=\"dataframe\">\n  <thead>\n    <tr style=\"text-align: right;\">\n      <th></th>\n      <th>driverId</th>\n      <th>constructorId</th>\n      <th>q1_position</th>\n      <th>q2_position</th>\n      <th>q3_position</th>\n      <th>raceId</th>\n    </tr>\n  </thead>\n  <tbody>\n    <tr>\n      <th>0</th>\n      <td>1</td>\n      <td>1</td>\n      <td>10.0</td>\n      <td>1.0</td>\n      <td>1.0</td>\n      <td>18</td>\n    </tr>\n    <tr>\n      <th>1</th>\n      <td>9</td>\n      <td>2</td>\n      <td>4.0</td>\n      <td>2.0</td>\n      <td>2.0</td>\n      <td>18</td>\n    </tr>\n    <tr>\n      <th>2</th>\n      <td>5</td>\n      <td>1</td>\n      <td>1.0</td>\n      <td>3.0</td>\n      <td>3.0</td>\n      <td>18</td>\n    </tr>\n    <tr>\n      <th>3</th>\n      <td>13</td>\n      <td>6</td>\n      <td>3.0</td>\n      <td>5.0</td>\n      <td>4.0</td>\n      <td>18</td>\n    </tr>\n    <tr>\n      <th>4</th>\n      <td>2</td>\n      <td>2</td>\n      <td>2.0</td>\n      <td>4.0</td>\n      <td>5.0</td>\n      <td>18</td>\n    </tr>\n    <tr>\n      <th>5</th>\n      <td>15</td>\n      <td>7</td>\n      <td>9.0</td>\n      <td>9.0</td>\n      <td>6.0</td>\n      <td>18</td>\n    </tr>\n    <tr>\n      <th>6</th>\n      <td>3</td>\n      <td>3</td>\n      <td>6.0</td>\n      <td>7.0</td>\n      <td>7.0</td>\n      <td>18</td>\n    </tr>\n    <tr>\n      <th>7</th>\n      <td>14</td>\n      <td>9</td>\n      <td>8.0</td>\n      <td>8.0</td>\n      <td>8.0</td>\n      <td>18</td>\n    </tr>\n    <tr>\n      <th>8</th>\n      <td>10</td>\n      <td>7</td>\n      <td>16.0</td>\n      <td>10.0</td>\n      <td>9.0</td>\n      <td>18</td>\n    </tr>\n    <tr>\n      <th>9</th>\n      <td>20</td>\n      <td>5</td>\n      <td>11.0</td>\n      <td>6.0</td>\n      <td>10.0</td>\n      <td>18</td>\n    </tr>\n    <tr>\n      <th>10</th>\n      <td>22</td>\n      <td>11</td>\n      <td>7.0</td>\n      <td>11.0</td>\n      <td>10.0</td>\n      <td>18</td>\n    </tr>\n    <tr>\n      <th>11</th>\n      <td>4</td>\n      <td>4</td>\n      <td>14.0</td>\n      <td>12.0</td>\n      <td>10.0</td>\n      <td>18</td>\n    </tr>\n    <tr>\n      <th>12</th>\n      <td>18</td>\n      <td>11</td>\n      <td>12.0</td>\n      <td>13.0</td>\n      <td>10.0</td>\n      <td>18</td>\n    </tr>\n    <tr>\n      <th>13</th>\n      <td>6</td>\n      <td>3</td>\n      <td>13.0</td>\n      <td>14.0</td>\n      <td>10.0</td>\n      <td>18</td>\n    </tr>\n    <tr>\n      <th>14</th>\n      <td>17</td>\n      <td>9</td>\n      <td>15.0</td>\n      <td>15.0</td>\n      <td>10.0</td>\n      <td>18</td>\n    </tr>\n    <tr>\n      <th>15</th>\n      <td>8</td>\n      <td>6</td>\n      <td>5.0</td>\n      <td>15.0</td>\n      <td>10.0</td>\n      <td>18</td>\n    </tr>\n    <tr>\n      <th>16</th>\n      <td>21</td>\n      <td>10</td>\n      <td>17.0</td>\n      <td>15.0</td>\n      <td>10.0</td>\n      <td>18</td>\n    </tr>\n    <tr>\n      <th>17</th>\n      <td>7</td>\n      <td>5</td>\n      <td>18.0</td>\n      <td>15.0</td>\n      <td>10.0</td>\n      <td>18</td>\n    </tr>\n    <tr>\n      <th>18</th>\n      <td>16</td>\n      <td>10</td>\n      <td>19.0</td>\n      <td>15.0</td>\n      <td>10.0</td>\n      <td>18</td>\n    </tr>\n    <tr>\n      <th>19</th>\n      <td>11</td>\n      <td>8</td>\n      <td>20.0</td>\n      <td>15.0</td>\n      <td>10.0</td>\n      <td>18</td>\n    </tr>\n    <tr>\n      <th>20</th>\n      <td>12</td>\n      <td>4</td>\n      <td>21.0</td>\n      <td>15.0</td>\n      <td>10.0</td>\n      <td>18</td>\n    </tr>\n    <tr>\n      <th>21</th>\n      <td>19</td>\n      <td>8</td>\n      <td>22.0</td>\n      <td>15.0</td>\n      <td>10.0</td>\n      <td>18</td>\n    </tr>\n  </tbody>\n</table>\n</div>"
     },
     "execution_count": 308,
     "metadata": {},
     "output_type": "execute_result"
    }
   ],
   "source": [
    "qualifying[qualifying.raceId == 18]"
   ],
   "metadata": {
    "collapsed": false,
    "pycharm": {
     "name": "#%%\n"
    }
   }
  },
  {
   "cell_type": "code",
   "execution_count": 309,
   "outputs": [
    {
     "data": {
      "text/plain": "driverId         0\nconstructorId    0\nq1_position      0\nq2_position      0\nq3_position      0\nraceId           0\ndtype: int64"
     },
     "execution_count": 309,
     "metadata": {},
     "output_type": "execute_result"
    }
   ],
   "source": [
    "qualifying.isna().sum()"
   ],
   "metadata": {
    "collapsed": false,
    "pycharm": {
     "name": "#%%\n"
    }
   }
  },
  {
   "cell_type": "code",
   "execution_count": 310,
   "outputs": [],
   "source": [
    "quali_w_results = qualifying.merge(\n",
    "    race_results,\n",
    "    on=[\"raceId\", \"driverId\", \"constructorId\"],\n",
    "    how=\"left\"\n",
    ")"
   ],
   "metadata": {
    "collapsed": false,
    "pycharm": {
     "name": "#%%\n"
    }
   }
  },
  {
   "cell_type": "code",
   "execution_count": 72,
   "outputs": [
    {
     "data": {
      "text/plain": "      driverId  constructorId  q1_position  q2_position  q3_position  raceId  \\\n8534         1            131          2.0          4.0          1.0    1040   \n8535       830              9          5.0          9.0          2.0    1040   \n8536       822            131          1.0          2.0          3.0    1040   \n8537       815            211          7.0          5.0          4.0    1040   \n8538       817              4          6.0          1.0          5.0    1040   \n8539       832              1         12.0          3.0          6.0    1040   \n8540       839              4          4.0         10.0          7.0    1040   \n8541       846              1          9.0          6.0          8.0    1040   \n8542       842            213          8.0          7.0          9.0    1040   \n8543       848              9         11.0          8.0         10.0    1040   \n8544       844              6         14.0         11.0         11.0    1040   \n8545       826            213          3.0         12.0         11.0    1040   \n8546       840            211         10.0         13.0         11.0    1040   \n8547       847              3         13.0         14.0         11.0    1040   \n8548        20              6         15.0         15.0         11.0    1040   \n8549       154            210         16.0         16.0         11.0    1040   \n8550       841             51         17.0         16.0         11.0    1040   \n8551       825            210         18.0         16.0         11.0    1040   \n8552       849              3         19.0         16.0         11.0    1040   \n8553         8             51         20.0         16.0         11.0    1040   \n\n      resultId  number  grid  position  ... positionOrder  points  laps  \\\n8534   24808.0    44.0   1.0       3.0  ...           3.0    15.0  53.0   \n8535   24807.0    33.0   2.0       2.0  ...           2.0    18.0  53.0   \n8536   24806.0    77.0   3.0       1.0  ...           1.0    26.0  53.0   \n8537   24809.0    11.0   4.0       4.0  ...           4.0    12.0  53.0   \n8538   24810.0     3.0   5.0       5.0  ...           5.0    10.0  53.0   \n8539   24824.0    55.0   6.0       NaN  ...          19.0     0.0   0.0   \n8540   24812.0    31.0   7.0       7.0  ...           7.0     6.0  53.0   \n8541   24820.0     4.0   8.0      15.0  ...          15.0     0.0  52.0   \n8542   24814.0    10.0   9.0       9.0  ...           9.0     2.0  53.0   \n8543   24815.0    23.0  15.0      10.0  ...          10.0     1.0  53.0   \n8544   24811.0    16.0  10.0       6.0  ...           6.0     8.0  53.0   \n8545   24813.0    26.0  11.0       8.0  ...           8.0     4.0  53.0   \n8546   24825.0    18.0  12.0       NaN  ...          20.0     0.0   0.0   \n8547   24823.0    63.0  13.0      18.0  ...          18.0     0.0  52.0   \n8548   24818.0     5.0  14.0      13.0  ...          13.0     0.0  52.0   \n8549   24822.0     8.0  16.0      17.0  ...          17.0     0.0  52.0   \n8550   24816.0    99.0  17.0      11.0  ...          11.0     0.0  52.0   \n8551   24817.0    20.0  18.0      12.0  ...          12.0     0.0  52.0   \n8552   24821.0     6.0  20.0      16.0  ...          16.0     0.0  52.0   \n8553   24819.0     7.0  19.0      14.0  ...          14.0     0.0  52.0   \n\n             time milliseconds  fastestLap  rank  fastestLapTime  \\\n8534      +22.729    5663093.0        48.0   7.0        1:38.075   \n8535       +7.729    5648093.0        53.0   3.0        1:37.332   \n8536  1:34:00.364    5640364.0        51.0   1.0        1:37.030   \n8537      +30.558    5670922.0        52.0   8.0        1:38.141   \n8538      +52.065    5692429.0        53.0   6.0        1:37.886   \n8539          NaN          NaN         NaN   0.0             NaN   \n8540    +1:08.006    5708370.0        48.0  13.0        1:39.216   \n8541          NaN          NaN        50.0   5.0        1:37.377   \n8542    +1:29.766    5730130.0        50.0   2.0        1:37.231   \n8543    +1:37.860    5738224.0        51.0   9.0        1:38.377   \n8544    +1:02.186    5702550.0        47.0  11.0        1:39.053   \n8545    +1:08.740    5709104.0        48.0  12.0        1:39.133   \n8546          NaN          NaN         NaN   0.0             NaN   \n8547          NaN          NaN        52.0   4.0        1:37.352   \n8548          NaN          NaN        46.0  14.0        1:39.588   \n8549          NaN          NaN        44.0  15.0        1:39.614   \n8550          NaN          NaN        44.0  16.0        1:39.766   \n8551          NaN          NaN        52.0  17.0        1:40.380   \n8552          NaN          NaN        47.0  18.0        1:41.044   \n8553          NaN          NaN        37.0  10.0        1:38.858   \n\n     fastestLapSpeed  statusId  \n8534         214.660       1.0  \n8535         216.298       1.0  \n8536         216.972       1.0  \n8537         214.515       1.0  \n8538         215.074       1.0  \n8539             NaN       3.0  \n8540         212.191       1.0  \n8541         216.198      11.0  \n8542         216.523       1.0  \n8543         214.001       1.0  \n8544         212.540       1.0  \n8545         212.369       1.0  \n8546             NaN       4.0  \n8547         216.254      11.0  \n8548         211.398      11.0  \n8549         211.343      11.0  \n8550         211.021      11.0  \n8551         209.731      11.0  \n8552         208.352      11.0  \n8553         212.960      11.0  \n\n[20 rows x 21 columns]",
      "text/html": "<div>\n<style scoped>\n    .dataframe tbody tr th:only-of-type {\n        vertical-align: middle;\n    }\n\n    .dataframe tbody tr th {\n        vertical-align: top;\n    }\n\n    .dataframe thead th {\n        text-align: right;\n    }\n</style>\n<table border=\"1\" class=\"dataframe\">\n  <thead>\n    <tr style=\"text-align: right;\">\n      <th></th>\n      <th>driverId</th>\n      <th>constructorId</th>\n      <th>q1_position</th>\n      <th>q2_position</th>\n      <th>q3_position</th>\n      <th>raceId</th>\n      <th>resultId</th>\n      <th>number</th>\n      <th>grid</th>\n      <th>position</th>\n      <th>...</th>\n      <th>positionOrder</th>\n      <th>points</th>\n      <th>laps</th>\n      <th>time</th>\n      <th>milliseconds</th>\n      <th>fastestLap</th>\n      <th>rank</th>\n      <th>fastestLapTime</th>\n      <th>fastestLapSpeed</th>\n      <th>statusId</th>\n    </tr>\n  </thead>\n  <tbody>\n    <tr>\n      <th>8534</th>\n      <td>1</td>\n      <td>131</td>\n      <td>2.0</td>\n      <td>4.0</td>\n      <td>1.0</td>\n      <td>1040</td>\n      <td>24808.0</td>\n      <td>44.0</td>\n      <td>1.0</td>\n      <td>3.0</td>\n      <td>...</td>\n      <td>3.0</td>\n      <td>15.0</td>\n      <td>53.0</td>\n      <td>+22.729</td>\n      <td>5663093.0</td>\n      <td>48.0</td>\n      <td>7.0</td>\n      <td>1:38.075</td>\n      <td>214.660</td>\n      <td>1.0</td>\n    </tr>\n    <tr>\n      <th>8535</th>\n      <td>830</td>\n      <td>9</td>\n      <td>5.0</td>\n      <td>9.0</td>\n      <td>2.0</td>\n      <td>1040</td>\n      <td>24807.0</td>\n      <td>33.0</td>\n      <td>2.0</td>\n      <td>2.0</td>\n      <td>...</td>\n      <td>2.0</td>\n      <td>18.0</td>\n      <td>53.0</td>\n      <td>+7.729</td>\n      <td>5648093.0</td>\n      <td>53.0</td>\n      <td>3.0</td>\n      <td>1:37.332</td>\n      <td>216.298</td>\n      <td>1.0</td>\n    </tr>\n    <tr>\n      <th>8536</th>\n      <td>822</td>\n      <td>131</td>\n      <td>1.0</td>\n      <td>2.0</td>\n      <td>3.0</td>\n      <td>1040</td>\n      <td>24806.0</td>\n      <td>77.0</td>\n      <td>3.0</td>\n      <td>1.0</td>\n      <td>...</td>\n      <td>1.0</td>\n      <td>26.0</td>\n      <td>53.0</td>\n      <td>1:34:00.364</td>\n      <td>5640364.0</td>\n      <td>51.0</td>\n      <td>1.0</td>\n      <td>1:37.030</td>\n      <td>216.972</td>\n      <td>1.0</td>\n    </tr>\n    <tr>\n      <th>8537</th>\n      <td>815</td>\n      <td>211</td>\n      <td>7.0</td>\n      <td>5.0</td>\n      <td>4.0</td>\n      <td>1040</td>\n      <td>24809.0</td>\n      <td>11.0</td>\n      <td>4.0</td>\n      <td>4.0</td>\n      <td>...</td>\n      <td>4.0</td>\n      <td>12.0</td>\n      <td>53.0</td>\n      <td>+30.558</td>\n      <td>5670922.0</td>\n      <td>52.0</td>\n      <td>8.0</td>\n      <td>1:38.141</td>\n      <td>214.515</td>\n      <td>1.0</td>\n    </tr>\n    <tr>\n      <th>8538</th>\n      <td>817</td>\n      <td>4</td>\n      <td>6.0</td>\n      <td>1.0</td>\n      <td>5.0</td>\n      <td>1040</td>\n      <td>24810.0</td>\n      <td>3.0</td>\n      <td>5.0</td>\n      <td>5.0</td>\n      <td>...</td>\n      <td>5.0</td>\n      <td>10.0</td>\n      <td>53.0</td>\n      <td>+52.065</td>\n      <td>5692429.0</td>\n      <td>53.0</td>\n      <td>6.0</td>\n      <td>1:37.886</td>\n      <td>215.074</td>\n      <td>1.0</td>\n    </tr>\n    <tr>\n      <th>8539</th>\n      <td>832</td>\n      <td>1</td>\n      <td>12.0</td>\n      <td>3.0</td>\n      <td>6.0</td>\n      <td>1040</td>\n      <td>24824.0</td>\n      <td>55.0</td>\n      <td>6.0</td>\n      <td>NaN</td>\n      <td>...</td>\n      <td>19.0</td>\n      <td>0.0</td>\n      <td>0.0</td>\n      <td>NaN</td>\n      <td>NaN</td>\n      <td>NaN</td>\n      <td>0.0</td>\n      <td>NaN</td>\n      <td>NaN</td>\n      <td>3.0</td>\n    </tr>\n    <tr>\n      <th>8540</th>\n      <td>839</td>\n      <td>4</td>\n      <td>4.0</td>\n      <td>10.0</td>\n      <td>7.0</td>\n      <td>1040</td>\n      <td>24812.0</td>\n      <td>31.0</td>\n      <td>7.0</td>\n      <td>7.0</td>\n      <td>...</td>\n      <td>7.0</td>\n      <td>6.0</td>\n      <td>53.0</td>\n      <td>+1:08.006</td>\n      <td>5708370.0</td>\n      <td>48.0</td>\n      <td>13.0</td>\n      <td>1:39.216</td>\n      <td>212.191</td>\n      <td>1.0</td>\n    </tr>\n    <tr>\n      <th>8541</th>\n      <td>846</td>\n      <td>1</td>\n      <td>9.0</td>\n      <td>6.0</td>\n      <td>8.0</td>\n      <td>1040</td>\n      <td>24820.0</td>\n      <td>4.0</td>\n      <td>8.0</td>\n      <td>15.0</td>\n      <td>...</td>\n      <td>15.0</td>\n      <td>0.0</td>\n      <td>52.0</td>\n      <td>NaN</td>\n      <td>NaN</td>\n      <td>50.0</td>\n      <td>5.0</td>\n      <td>1:37.377</td>\n      <td>216.198</td>\n      <td>11.0</td>\n    </tr>\n    <tr>\n      <th>8542</th>\n      <td>842</td>\n      <td>213</td>\n      <td>8.0</td>\n      <td>7.0</td>\n      <td>9.0</td>\n      <td>1040</td>\n      <td>24814.0</td>\n      <td>10.0</td>\n      <td>9.0</td>\n      <td>9.0</td>\n      <td>...</td>\n      <td>9.0</td>\n      <td>2.0</td>\n      <td>53.0</td>\n      <td>+1:29.766</td>\n      <td>5730130.0</td>\n      <td>50.0</td>\n      <td>2.0</td>\n      <td>1:37.231</td>\n      <td>216.523</td>\n      <td>1.0</td>\n    </tr>\n    <tr>\n      <th>8543</th>\n      <td>848</td>\n      <td>9</td>\n      <td>11.0</td>\n      <td>8.0</td>\n      <td>10.0</td>\n      <td>1040</td>\n      <td>24815.0</td>\n      <td>23.0</td>\n      <td>15.0</td>\n      <td>10.0</td>\n      <td>...</td>\n      <td>10.0</td>\n      <td>1.0</td>\n      <td>53.0</td>\n      <td>+1:37.860</td>\n      <td>5738224.0</td>\n      <td>51.0</td>\n      <td>9.0</td>\n      <td>1:38.377</td>\n      <td>214.001</td>\n      <td>1.0</td>\n    </tr>\n    <tr>\n      <th>8544</th>\n      <td>844</td>\n      <td>6</td>\n      <td>14.0</td>\n      <td>11.0</td>\n      <td>11.0</td>\n      <td>1040</td>\n      <td>24811.0</td>\n      <td>16.0</td>\n      <td>10.0</td>\n      <td>6.0</td>\n      <td>...</td>\n      <td>6.0</td>\n      <td>8.0</td>\n      <td>53.0</td>\n      <td>+1:02.186</td>\n      <td>5702550.0</td>\n      <td>47.0</td>\n      <td>11.0</td>\n      <td>1:39.053</td>\n      <td>212.540</td>\n      <td>1.0</td>\n    </tr>\n    <tr>\n      <th>8545</th>\n      <td>826</td>\n      <td>213</td>\n      <td>3.0</td>\n      <td>12.0</td>\n      <td>11.0</td>\n      <td>1040</td>\n      <td>24813.0</td>\n      <td>26.0</td>\n      <td>11.0</td>\n      <td>8.0</td>\n      <td>...</td>\n      <td>8.0</td>\n      <td>4.0</td>\n      <td>53.0</td>\n      <td>+1:08.740</td>\n      <td>5709104.0</td>\n      <td>48.0</td>\n      <td>12.0</td>\n      <td>1:39.133</td>\n      <td>212.369</td>\n      <td>1.0</td>\n    </tr>\n    <tr>\n      <th>8546</th>\n      <td>840</td>\n      <td>211</td>\n      <td>10.0</td>\n      <td>13.0</td>\n      <td>11.0</td>\n      <td>1040</td>\n      <td>24825.0</td>\n      <td>18.0</td>\n      <td>12.0</td>\n      <td>NaN</td>\n      <td>...</td>\n      <td>20.0</td>\n      <td>0.0</td>\n      <td>0.0</td>\n      <td>NaN</td>\n      <td>NaN</td>\n      <td>NaN</td>\n      <td>0.0</td>\n      <td>NaN</td>\n      <td>NaN</td>\n      <td>4.0</td>\n    </tr>\n    <tr>\n      <th>8547</th>\n      <td>847</td>\n      <td>3</td>\n      <td>13.0</td>\n      <td>14.0</td>\n      <td>11.0</td>\n      <td>1040</td>\n      <td>24823.0</td>\n      <td>63.0</td>\n      <td>13.0</td>\n      <td>18.0</td>\n      <td>...</td>\n      <td>18.0</td>\n      <td>0.0</td>\n      <td>52.0</td>\n      <td>NaN</td>\n      <td>NaN</td>\n      <td>52.0</td>\n      <td>4.0</td>\n      <td>1:37.352</td>\n      <td>216.254</td>\n      <td>11.0</td>\n    </tr>\n    <tr>\n      <th>8548</th>\n      <td>20</td>\n      <td>6</td>\n      <td>15.0</td>\n      <td>15.0</td>\n      <td>11.0</td>\n      <td>1040</td>\n      <td>24818.0</td>\n      <td>5.0</td>\n      <td>14.0</td>\n      <td>13.0</td>\n      <td>...</td>\n      <td>13.0</td>\n      <td>0.0</td>\n      <td>52.0</td>\n      <td>NaN</td>\n      <td>NaN</td>\n      <td>46.0</td>\n      <td>14.0</td>\n      <td>1:39.588</td>\n      <td>211.398</td>\n      <td>11.0</td>\n    </tr>\n    <tr>\n      <th>8549</th>\n      <td>154</td>\n      <td>210</td>\n      <td>16.0</td>\n      <td>16.0</td>\n      <td>11.0</td>\n      <td>1040</td>\n      <td>24822.0</td>\n      <td>8.0</td>\n      <td>16.0</td>\n      <td>17.0</td>\n      <td>...</td>\n      <td>17.0</td>\n      <td>0.0</td>\n      <td>52.0</td>\n      <td>NaN</td>\n      <td>NaN</td>\n      <td>44.0</td>\n      <td>15.0</td>\n      <td>1:39.614</td>\n      <td>211.343</td>\n      <td>11.0</td>\n    </tr>\n    <tr>\n      <th>8550</th>\n      <td>841</td>\n      <td>51</td>\n      <td>17.0</td>\n      <td>16.0</td>\n      <td>11.0</td>\n      <td>1040</td>\n      <td>24816.0</td>\n      <td>99.0</td>\n      <td>17.0</td>\n      <td>11.0</td>\n      <td>...</td>\n      <td>11.0</td>\n      <td>0.0</td>\n      <td>52.0</td>\n      <td>NaN</td>\n      <td>NaN</td>\n      <td>44.0</td>\n      <td>16.0</td>\n      <td>1:39.766</td>\n      <td>211.021</td>\n      <td>11.0</td>\n    </tr>\n    <tr>\n      <th>8551</th>\n      <td>825</td>\n      <td>210</td>\n      <td>18.0</td>\n      <td>16.0</td>\n      <td>11.0</td>\n      <td>1040</td>\n      <td>24817.0</td>\n      <td>20.0</td>\n      <td>18.0</td>\n      <td>12.0</td>\n      <td>...</td>\n      <td>12.0</td>\n      <td>0.0</td>\n      <td>52.0</td>\n      <td>NaN</td>\n      <td>NaN</td>\n      <td>52.0</td>\n      <td>17.0</td>\n      <td>1:40.380</td>\n      <td>209.731</td>\n      <td>11.0</td>\n    </tr>\n    <tr>\n      <th>8552</th>\n      <td>849</td>\n      <td>3</td>\n      <td>19.0</td>\n      <td>16.0</td>\n      <td>11.0</td>\n      <td>1040</td>\n      <td>24821.0</td>\n      <td>6.0</td>\n      <td>20.0</td>\n      <td>16.0</td>\n      <td>...</td>\n      <td>16.0</td>\n      <td>0.0</td>\n      <td>52.0</td>\n      <td>NaN</td>\n      <td>NaN</td>\n      <td>47.0</td>\n      <td>18.0</td>\n      <td>1:41.044</td>\n      <td>208.352</td>\n      <td>11.0</td>\n    </tr>\n    <tr>\n      <th>8553</th>\n      <td>8</td>\n      <td>51</td>\n      <td>20.0</td>\n      <td>16.0</td>\n      <td>11.0</td>\n      <td>1040</td>\n      <td>24819.0</td>\n      <td>7.0</td>\n      <td>19.0</td>\n      <td>14.0</td>\n      <td>...</td>\n      <td>14.0</td>\n      <td>0.0</td>\n      <td>52.0</td>\n      <td>NaN</td>\n      <td>NaN</td>\n      <td>37.0</td>\n      <td>10.0</td>\n      <td>1:38.858</td>\n      <td>212.960</td>\n      <td>11.0</td>\n    </tr>\n  </tbody>\n</table>\n<p>20 rows × 21 columns</p>\n</div>"
     },
     "execution_count": 72,
     "metadata": {},
     "output_type": "execute_result"
    }
   ],
   "source": [
    "# quali_results = quali_results.drop([\"resultId\", \"\"])\n",
    "quali_w_results[quali_w_results.raceId == 1040]"
   ],
   "metadata": {
    "collapsed": false,
    "pycharm": {
     "name": "#%%\n"
    }
   }
  },
  {
   "cell_type": "code",
   "execution_count": 311,
   "outputs": [
    {
     "data": {
      "text/plain": "      driverId  constructorId  q1_position  q2_position  q3_position  raceId  \\\n0            1              1         10.0          1.0          1.0      18   \n1            9              2          4.0          2.0          2.0      18   \n2            5              1          1.0          3.0          3.0      18   \n3           13              6          3.0          5.0          4.0      18   \n4            2              2          2.0          4.0          5.0      18   \n...        ...            ...          ...          ...          ...     ...   \n8745       852            213         16.0         16.0         11.0    1055   \n8746         8             51         17.0         16.0         11.0    1055   \n8747       854            210         18.0         16.0         11.0    1055   \n8748       849              3         19.0         16.0         11.0    1055   \n8749       853            210         20.0         16.0         11.0    1055   \n\n      position  \n0          1.0  \n1          NaN  \n2          5.0  \n3          NaN  \n4          2.0  \n...        ...  \n8745       NaN  \n8746      12.0  \n8747      18.0  \n8748      16.0  \n8749      19.0  \n\n[8750 rows x 7 columns]",
      "text/html": "<div>\n<style scoped>\n    .dataframe tbody tr th:only-of-type {\n        vertical-align: middle;\n    }\n\n    .dataframe tbody tr th {\n        vertical-align: top;\n    }\n\n    .dataframe thead th {\n        text-align: right;\n    }\n</style>\n<table border=\"1\" class=\"dataframe\">\n  <thead>\n    <tr style=\"text-align: right;\">\n      <th></th>\n      <th>driverId</th>\n      <th>constructorId</th>\n      <th>q1_position</th>\n      <th>q2_position</th>\n      <th>q3_position</th>\n      <th>raceId</th>\n      <th>position</th>\n    </tr>\n  </thead>\n  <tbody>\n    <tr>\n      <th>0</th>\n      <td>1</td>\n      <td>1</td>\n      <td>10.0</td>\n      <td>1.0</td>\n      <td>1.0</td>\n      <td>18</td>\n      <td>1.0</td>\n    </tr>\n    <tr>\n      <th>1</th>\n      <td>9</td>\n      <td>2</td>\n      <td>4.0</td>\n      <td>2.0</td>\n      <td>2.0</td>\n      <td>18</td>\n      <td>NaN</td>\n    </tr>\n    <tr>\n      <th>2</th>\n      <td>5</td>\n      <td>1</td>\n      <td>1.0</td>\n      <td>3.0</td>\n      <td>3.0</td>\n      <td>18</td>\n      <td>5.0</td>\n    </tr>\n    <tr>\n      <th>3</th>\n      <td>13</td>\n      <td>6</td>\n      <td>3.0</td>\n      <td>5.0</td>\n      <td>4.0</td>\n      <td>18</td>\n      <td>NaN</td>\n    </tr>\n    <tr>\n      <th>4</th>\n      <td>2</td>\n      <td>2</td>\n      <td>2.0</td>\n      <td>4.0</td>\n      <td>5.0</td>\n      <td>18</td>\n      <td>2.0</td>\n    </tr>\n    <tr>\n      <th>...</th>\n      <td>...</td>\n      <td>...</td>\n      <td>...</td>\n      <td>...</td>\n      <td>...</td>\n      <td>...</td>\n      <td>...</td>\n    </tr>\n    <tr>\n      <th>8745</th>\n      <td>852</td>\n      <td>213</td>\n      <td>16.0</td>\n      <td>16.0</td>\n      <td>11.0</td>\n      <td>1055</td>\n      <td>NaN</td>\n    </tr>\n    <tr>\n      <th>8746</th>\n      <td>8</td>\n      <td>51</td>\n      <td>17.0</td>\n      <td>16.0</td>\n      <td>11.0</td>\n      <td>1055</td>\n      <td>12.0</td>\n    </tr>\n    <tr>\n      <th>8747</th>\n      <td>854</td>\n      <td>210</td>\n      <td>18.0</td>\n      <td>16.0</td>\n      <td>11.0</td>\n      <td>1055</td>\n      <td>18.0</td>\n    </tr>\n    <tr>\n      <th>8748</th>\n      <td>849</td>\n      <td>3</td>\n      <td>19.0</td>\n      <td>16.0</td>\n      <td>11.0</td>\n      <td>1055</td>\n      <td>16.0</td>\n    </tr>\n    <tr>\n      <th>8749</th>\n      <td>853</td>\n      <td>210</td>\n      <td>20.0</td>\n      <td>16.0</td>\n      <td>11.0</td>\n      <td>1055</td>\n      <td>19.0</td>\n    </tr>\n  </tbody>\n</table>\n<p>8750 rows × 7 columns</p>\n</div>"
     },
     "execution_count": 311,
     "metadata": {},
     "output_type": "execute_result"
    }
   ],
   "source": [
    "quali_w_results = quali_w_results.drop([\"resultId\", \"number\", \"grid\", \"positionText\",\n",
    "                      \"positionOrder\", \"points\",\"laps\", \"time\",\n",
    "                      \"milliseconds\", \"fastestLap\", \"rank\",\n",
    "                      \"fastestLapTime\", \"fastestLapSpeed\", \"statusId\"], axis=1)\n",
    "\n",
    "quali_w_results"
   ],
   "metadata": {
    "collapsed": false,
    "pycharm": {
     "name": "#%%\n"
    }
   }
  },
  {
   "cell_type": "code",
   "execution_count": 312,
   "outputs": [],
   "source": [
    "quali_w_results_clean = quali_w_results.copy()"
   ],
   "metadata": {
    "collapsed": false,
    "pycharm": {
     "name": "#%%\n"
    }
   }
  },
  {
   "cell_type": "code",
   "execution_count": 313,
   "outputs": [],
   "source": [
    "quali_w_results_clean = quali_w_results_clean.groupby([\"raceId\"]).transform(lambda x: x.fillna(x.max() + 1))\n",
    "quali_w_results_clean[\"raceId\"] = quali_w_results[\"raceId\"]"
   ],
   "metadata": {
    "collapsed": false,
    "pycharm": {
     "name": "#%%\n"
    }
   }
  },
  {
   "cell_type": "code",
   "execution_count": 314,
   "outputs": [
    {
     "data": {
      "text/plain": "      driverId  constructorId  q1_position  q2_position  q3_position  \\\n0            1              1         10.0          1.0          1.0   \n1            9              2          4.0          2.0          2.0   \n2            5              1          1.0          3.0          3.0   \n3           13              6          3.0          5.0          4.0   \n4            2              2          2.0          4.0          5.0   \n...        ...            ...          ...          ...          ...   \n8745       852            213         16.0         16.0         11.0   \n8746         8             51         17.0         16.0         11.0   \n8747       854            210         18.0         16.0         11.0   \n8748       849              3         19.0         16.0         11.0   \n8749       853            210         20.0         16.0         11.0   \n\n      position  raceId  \n0          1.0      18  \n1          9.0      18  \n2          5.0      18  \n3          9.0      18  \n4          2.0      18  \n...        ...     ...  \n8745      20.0    1055  \n8746      12.0    1055  \n8747      18.0    1055  \n8748      16.0    1055  \n8749      19.0    1055  \n\n[8750 rows x 7 columns]",
      "text/html": "<div>\n<style scoped>\n    .dataframe tbody tr th:only-of-type {\n        vertical-align: middle;\n    }\n\n    .dataframe tbody tr th {\n        vertical-align: top;\n    }\n\n    .dataframe thead th {\n        text-align: right;\n    }\n</style>\n<table border=\"1\" class=\"dataframe\">\n  <thead>\n    <tr style=\"text-align: right;\">\n      <th></th>\n      <th>driverId</th>\n      <th>constructorId</th>\n      <th>q1_position</th>\n      <th>q2_position</th>\n      <th>q3_position</th>\n      <th>position</th>\n      <th>raceId</th>\n    </tr>\n  </thead>\n  <tbody>\n    <tr>\n      <th>0</th>\n      <td>1</td>\n      <td>1</td>\n      <td>10.0</td>\n      <td>1.0</td>\n      <td>1.0</td>\n      <td>1.0</td>\n      <td>18</td>\n    </tr>\n    <tr>\n      <th>1</th>\n      <td>9</td>\n      <td>2</td>\n      <td>4.0</td>\n      <td>2.0</td>\n      <td>2.0</td>\n      <td>9.0</td>\n      <td>18</td>\n    </tr>\n    <tr>\n      <th>2</th>\n      <td>5</td>\n      <td>1</td>\n      <td>1.0</td>\n      <td>3.0</td>\n      <td>3.0</td>\n      <td>5.0</td>\n      <td>18</td>\n    </tr>\n    <tr>\n      <th>3</th>\n      <td>13</td>\n      <td>6</td>\n      <td>3.0</td>\n      <td>5.0</td>\n      <td>4.0</td>\n      <td>9.0</td>\n      <td>18</td>\n    </tr>\n    <tr>\n      <th>4</th>\n      <td>2</td>\n      <td>2</td>\n      <td>2.0</td>\n      <td>4.0</td>\n      <td>5.0</td>\n      <td>2.0</td>\n      <td>18</td>\n    </tr>\n    <tr>\n      <th>...</th>\n      <td>...</td>\n      <td>...</td>\n      <td>...</td>\n      <td>...</td>\n      <td>...</td>\n      <td>...</td>\n      <td>...</td>\n    </tr>\n    <tr>\n      <th>8745</th>\n      <td>852</td>\n      <td>213</td>\n      <td>16.0</td>\n      <td>16.0</td>\n      <td>11.0</td>\n      <td>20.0</td>\n      <td>1055</td>\n    </tr>\n    <tr>\n      <th>8746</th>\n      <td>8</td>\n      <td>51</td>\n      <td>17.0</td>\n      <td>16.0</td>\n      <td>11.0</td>\n      <td>12.0</td>\n      <td>1055</td>\n    </tr>\n    <tr>\n      <th>8747</th>\n      <td>854</td>\n      <td>210</td>\n      <td>18.0</td>\n      <td>16.0</td>\n      <td>11.0</td>\n      <td>18.0</td>\n      <td>1055</td>\n    </tr>\n    <tr>\n      <th>8748</th>\n      <td>849</td>\n      <td>3</td>\n      <td>19.0</td>\n      <td>16.0</td>\n      <td>11.0</td>\n      <td>16.0</td>\n      <td>1055</td>\n    </tr>\n    <tr>\n      <th>8749</th>\n      <td>853</td>\n      <td>210</td>\n      <td>20.0</td>\n      <td>16.0</td>\n      <td>11.0</td>\n      <td>19.0</td>\n      <td>1055</td>\n    </tr>\n  </tbody>\n</table>\n<p>8750 rows × 7 columns</p>\n</div>"
     },
     "execution_count": 314,
     "metadata": {},
     "output_type": "execute_result"
    }
   ],
   "source": [
    "quali_w_results_clean"
   ],
   "metadata": {
    "collapsed": false,
    "pycharm": {
     "name": "#%%\n"
    }
   }
  },
  {
   "cell_type": "code",
   "execution_count": 315,
   "outputs": [],
   "source": [
    "quali_w_results_clean = quali_w_results_clean.rename(columns=\n",
    "    {\n",
    "        \"position\": \"driver_standing\"\n",
    "    }\n",
    ")"
   ],
   "metadata": {
    "collapsed": false,
    "pycharm": {
     "name": "#%%\n"
    }
   }
  },
  {
   "cell_type": "code",
   "execution_count": 316,
   "outputs": [],
   "source": [
    "#merging in constructor results\n",
    "results = quali_w_results_clean.copy()\n",
    "results_w_races = results.merge(\n",
    "    races,\n",
    "    on=\"raceId\",\n",
    "    how=\"left\"\n",
    ")"
   ],
   "metadata": {
    "collapsed": false,
    "pycharm": {
     "name": "#%%\n"
    }
   }
  },
  {
   "cell_type": "code",
   "execution_count": 317,
   "outputs": [
    {
     "data": {
      "text/plain": "      driverId  constructorId  q1_position  q2_position  q3_position  \\\n0            1              1         10.0          1.0          1.0   \n1            9              2          4.0          2.0          2.0   \n2            5              1          1.0          3.0          3.0   \n3           13              6          3.0          5.0          4.0   \n4            2              2          2.0          4.0          5.0   \n...        ...            ...          ...          ...          ...   \n8745       852            213         16.0         16.0         11.0   \n8746         8             51         17.0         16.0         11.0   \n8747       854            210         18.0         16.0         11.0   \n8748       849              3         19.0         16.0         11.0   \n8749       853            210         20.0         16.0         11.0   \n\n      driver_standing  raceId  year  circuitId  \n0                 1.0      18  2008          1  \n1                 9.0      18  2008          1  \n2                 5.0      18  2008          1  \n3                 9.0      18  2008          1  \n4                 2.0      18  2008          1  \n...               ...     ...   ...        ...  \n8745             20.0    1055  2021          4  \n8746             12.0    1055  2021          4  \n8747             18.0    1055  2021          4  \n8748             16.0    1055  2021          4  \n8749             19.0    1055  2021          4  \n\n[8750 rows x 9 columns]",
      "text/html": "<div>\n<style scoped>\n    .dataframe tbody tr th:only-of-type {\n        vertical-align: middle;\n    }\n\n    .dataframe tbody tr th {\n        vertical-align: top;\n    }\n\n    .dataframe thead th {\n        text-align: right;\n    }\n</style>\n<table border=\"1\" class=\"dataframe\">\n  <thead>\n    <tr style=\"text-align: right;\">\n      <th></th>\n      <th>driverId</th>\n      <th>constructorId</th>\n      <th>q1_position</th>\n      <th>q2_position</th>\n      <th>q3_position</th>\n      <th>driver_standing</th>\n      <th>raceId</th>\n      <th>year</th>\n      <th>circuitId</th>\n    </tr>\n  </thead>\n  <tbody>\n    <tr>\n      <th>0</th>\n      <td>1</td>\n      <td>1</td>\n      <td>10.0</td>\n      <td>1.0</td>\n      <td>1.0</td>\n      <td>1.0</td>\n      <td>18</td>\n      <td>2008</td>\n      <td>1</td>\n    </tr>\n    <tr>\n      <th>1</th>\n      <td>9</td>\n      <td>2</td>\n      <td>4.0</td>\n      <td>2.0</td>\n      <td>2.0</td>\n      <td>9.0</td>\n      <td>18</td>\n      <td>2008</td>\n      <td>1</td>\n    </tr>\n    <tr>\n      <th>2</th>\n      <td>5</td>\n      <td>1</td>\n      <td>1.0</td>\n      <td>3.0</td>\n      <td>3.0</td>\n      <td>5.0</td>\n      <td>18</td>\n      <td>2008</td>\n      <td>1</td>\n    </tr>\n    <tr>\n      <th>3</th>\n      <td>13</td>\n      <td>6</td>\n      <td>3.0</td>\n      <td>5.0</td>\n      <td>4.0</td>\n      <td>9.0</td>\n      <td>18</td>\n      <td>2008</td>\n      <td>1</td>\n    </tr>\n    <tr>\n      <th>4</th>\n      <td>2</td>\n      <td>2</td>\n      <td>2.0</td>\n      <td>4.0</td>\n      <td>5.0</td>\n      <td>2.0</td>\n      <td>18</td>\n      <td>2008</td>\n      <td>1</td>\n    </tr>\n    <tr>\n      <th>...</th>\n      <td>...</td>\n      <td>...</td>\n      <td>...</td>\n      <td>...</td>\n      <td>...</td>\n      <td>...</td>\n      <td>...</td>\n      <td>...</td>\n      <td>...</td>\n    </tr>\n    <tr>\n      <th>8745</th>\n      <td>852</td>\n      <td>213</td>\n      <td>16.0</td>\n      <td>16.0</td>\n      <td>11.0</td>\n      <td>20.0</td>\n      <td>1055</td>\n      <td>2021</td>\n      <td>4</td>\n    </tr>\n    <tr>\n      <th>8746</th>\n      <td>8</td>\n      <td>51</td>\n      <td>17.0</td>\n      <td>16.0</td>\n      <td>11.0</td>\n      <td>12.0</td>\n      <td>1055</td>\n      <td>2021</td>\n      <td>4</td>\n    </tr>\n    <tr>\n      <th>8747</th>\n      <td>854</td>\n      <td>210</td>\n      <td>18.0</td>\n      <td>16.0</td>\n      <td>11.0</td>\n      <td>18.0</td>\n      <td>1055</td>\n      <td>2021</td>\n      <td>4</td>\n    </tr>\n    <tr>\n      <th>8748</th>\n      <td>849</td>\n      <td>3</td>\n      <td>19.0</td>\n      <td>16.0</td>\n      <td>11.0</td>\n      <td>16.0</td>\n      <td>1055</td>\n      <td>2021</td>\n      <td>4</td>\n    </tr>\n    <tr>\n      <th>8749</th>\n      <td>853</td>\n      <td>210</td>\n      <td>20.0</td>\n      <td>16.0</td>\n      <td>11.0</td>\n      <td>19.0</td>\n      <td>1055</td>\n      <td>2021</td>\n      <td>4</td>\n    </tr>\n  </tbody>\n</table>\n<p>8750 rows × 9 columns</p>\n</div>"
     },
     "execution_count": 317,
     "metadata": {},
     "output_type": "execute_result"
    }
   ],
   "source": [
    "results_w_races = results_w_races.drop([\"round\", \"name\", \"date\", \"time\", \"url\"], axis=1)\n",
    "results_w_races\n"
   ],
   "metadata": {
    "collapsed": false,
    "pycharm": {
     "name": "#%%\n"
    }
   }
  },
  {
   "cell_type": "code",
   "execution_count": 318,
   "outputs": [],
   "source": [
    "constructors_clean = constructor_results.copy()\n",
    "constructors_clean = constructors_clean.drop([\"constructorResultsId\", \"status\"], axis=1)"
   ],
   "metadata": {
    "collapsed": false,
    "pycharm": {
     "name": "#%%\n"
    }
   }
  },
  {
   "cell_type": "code",
   "execution_count": 319,
   "outputs": [],
   "source": [
    "constructors_clean[\"constructor_standing\"] = constructors_clean.sort_values([\"points\"]).groupby(\"raceId\").cumcount() + 1\n",
    "constructors_clean = constructors_clean.drop([\"points\"], axis=1)"
   ],
   "metadata": {
    "collapsed": false,
    "pycharm": {
     "name": "#%%\n"
    }
   }
  },
  {
   "cell_type": "code",
   "execution_count": 320,
   "outputs": [],
   "source": [
    "final_data = results_w_races.merge(\n",
    "    constructors_clean,\n",
    "    on=[\"raceId\", \"constructorId\"],\n",
    "    how=\"left\"\n",
    ")"
   ],
   "metadata": {
    "collapsed": false,
    "pycharm": {
     "name": "#%%\n"
    }
   }
  },
  {
   "cell_type": "code",
   "execution_count": 321,
   "outputs": [],
   "source": [
    "final_data = final_data.merge(\n",
    "    drivers_clean,\n",
    "    on=\"driverId\",\n",
    "    how=\"right\"\n",
    ")\n",
    "\n",
    "final_data.columns = [\"driver_id\", \"constructor_id\",\n",
    "                      \"q1_position\", \"q2_position\",\n",
    "                      \"q3_position\", \"driver_standing\", \"race_id\",\n",
    "                      \"year\", \"circuit_id\", \"constructor_standing\",\n",
    "                      \"driver_code\"]"
   ],
   "metadata": {
    "collapsed": false,
    "pycharm": {
     "name": "#%%\n"
    }
   }
  },
  {
   "cell_type": "code",
   "execution_count": 322,
   "outputs": [
    {
     "data": {
      "text/plain": "driver_id               0\nconstructor_id          0\nq1_position             0\nq2_position             0\nq3_position             0\ndriver_standing         0\nrace_id                 0\nyear                    0\ncircuit_id              0\nconstructor_standing    0\ndriver_code             0\ndtype: int64"
     },
     "execution_count": 322,
     "metadata": {},
     "output_type": "execute_result"
    }
   ],
   "source": [
    "final_data.isna().sum()"
   ],
   "metadata": {
    "collapsed": false,
    "pycharm": {
     "name": "#%%\n"
    }
   }
  },
  {
   "cell_type": "code",
   "execution_count": 140,
   "outputs": [],
   "source": [
    "y1 = final_data[\"q1_position\"]\n",
    "y2 = final_data[\"q2_position\"]\n",
    "y3 = final_data[\"q3_position\"]\n",
    "X = final_data[final_data.columns.difference([\"driver_standing\", \"q3_position\", \"constructor_standing\"])]\n"
   ],
   "metadata": {
    "collapsed": false,
    "pycharm": {
     "name": "#%%\n"
    }
   }
  }
 ],
 "metadata": {
  "kernelspec": {
   "display_name": "Python 3",
   "language": "python",
   "name": "python3"
  },
  "language_info": {
   "codemirror_mode": {
    "name": "ipython",
    "version": 2
   },
   "file_extension": ".py",
   "mimetype": "text/x-python",
   "name": "python",
   "nbconvert_exporter": "python",
   "pygments_lexer": "ipython2",
   "version": "2.7.6"
  }
 },
 "nbformat": 4,
 "nbformat_minor": 0
}